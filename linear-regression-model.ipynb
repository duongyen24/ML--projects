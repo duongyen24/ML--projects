{
  "cells": [
    {
      "cell_type": "markdown",
      "source": [
        "run on colab"
      ],
      "metadata": {
        "id": "-9zasghGXqF2"
      },
      "id": "-9zasghGXqF2"
    },
    {
      "cell_type": "code",
      "execution_count": 22,
      "id": "fb37bf9c",
      "metadata": {
        "execution": {
          "iopub.execute_input": "2022-01-22T15:23:40.573579Z",
          "iopub.status.busy": "2022-01-22T15:23:40.572780Z",
          "iopub.status.idle": "2022-01-22T15:23:41.683521Z",
          "shell.execute_reply": "2022-01-22T15:23:41.682919Z",
          "shell.execute_reply.started": "2022-01-22T14:56:51.703583Z"
        },
        "papermill": {
          "duration": 1.135432,
          "end_time": "2022-01-22T15:23:41.683672",
          "exception": false,
          "start_time": "2022-01-22T15:23:40.548240",
          "status": "completed"
        },
        "tags": [],
        "id": "fb37bf9c"
      },
      "outputs": [],
      "source": [
        "from sklearn import datasets"
      ]
    },
    {
      "cell_type": "code",
      "execution_count": 23,
      "id": "65df4b24",
      "metadata": {
        "execution": {
          "iopub.execute_input": "2022-01-22T15:23:41.727798Z",
          "iopub.status.busy": "2022-01-22T15:23:41.726841Z",
          "iopub.status.idle": "2022-01-22T15:23:41.747786Z",
          "shell.execute_reply": "2022-01-22T15:23:41.748354Z",
          "shell.execute_reply.started": "2022-01-22T14:57:05.782845Z"
        },
        "papermill": {
          "duration": 0.044811,
          "end_time": "2022-01-22T15:23:41.748538",
          "exception": false,
          "start_time": "2022-01-22T15:23:41.703727",
          "status": "completed"
        },
        "tags": [],
        "id": "65df4b24"
      },
      "outputs": [],
      "source": [
        "diabetes = datasets.load_diabetes()"
      ]
    },
    {
      "cell_type": "code",
      "execution_count": 24,
      "id": "a4d3e891",
      "metadata": {
        "execution": {
          "iopub.execute_input": "2022-01-22T15:23:41.792415Z",
          "iopub.status.busy": "2022-01-22T15:23:41.791458Z",
          "iopub.status.idle": "2022-01-22T15:23:41.807478Z",
          "shell.execute_reply": "2022-01-22T15:23:41.807988Z",
          "shell.execute_reply.started": "2022-01-22T14:57:20.987830Z"
        },
        "papermill": {
          "duration": 0.039335,
          "end_time": "2022-01-22T15:23:41.808148",
          "exception": false,
          "start_time": "2022-01-22T15:23:41.768813",
          "status": "completed"
        },
        "tags": [],
        "colab": {
          "base_uri": "https://localhost:8080/"
        },
        "id": "a4d3e891",
        "outputId": "56e61792-b987-4904-f6e9-43c6d7ffa03a"
      },
      "outputs": [
        {
          "output_type": "execute_result",
          "data": {
            "text/plain": [
              "{'DESCR': '.. _diabetes_dataset:\\n\\nDiabetes dataset\\n----------------\\n\\nTen baseline variables, age, sex, body mass index, average blood\\npressure, and six blood serum measurements were obtained for each of n =\\n442 diabetes patients, as well as the response of interest, a\\nquantitative measure of disease progression one year after baseline.\\n\\n**Data Set Characteristics:**\\n\\n  :Number of Instances: 442\\n\\n  :Number of Attributes: First 10 columns are numeric predictive values\\n\\n  :Target: Column 11 is a quantitative measure of disease progression one year after baseline\\n\\n  :Attribute Information:\\n      - age     age in years\\n      - sex\\n      - bmi     body mass index\\n      - bp      average blood pressure\\n      - s1      tc, total serum cholesterol\\n      - s2      ldl, low-density lipoproteins\\n      - s3      hdl, high-density lipoproteins\\n      - s4      tch, total cholesterol / HDL\\n      - s5      ltg, possibly log of serum triglycerides level\\n      - s6      glu, blood sugar level\\n\\nNote: Each of these 10 feature variables have been mean centered and scaled by the standard deviation times `n_samples` (i.e. the sum of squares of each column totals 1).\\n\\nSource URL:\\nhttps://www4.stat.ncsu.edu/~boos/var.select/diabetes.html\\n\\nFor more information see:\\nBradley Efron, Trevor Hastie, Iain Johnstone and Robert Tibshirani (2004) \"Least Angle Regression,\" Annals of Statistics (with discussion), 407-499.\\n(https://web.stanford.edu/~hastie/Papers/LARS/LeastAngle_2002.pdf)',\n",
              " 'data': array([[ 0.03807591,  0.05068012,  0.06169621, ..., -0.00259226,\n",
              "          0.01990842, -0.01764613],\n",
              "        [-0.00188202, -0.04464164, -0.05147406, ..., -0.03949338,\n",
              "         -0.06832974, -0.09220405],\n",
              "        [ 0.08529891,  0.05068012,  0.04445121, ..., -0.00259226,\n",
              "          0.00286377, -0.02593034],\n",
              "        ...,\n",
              "        [ 0.04170844,  0.05068012, -0.01590626, ..., -0.01107952,\n",
              "         -0.04687948,  0.01549073],\n",
              "        [-0.04547248, -0.04464164,  0.03906215, ...,  0.02655962,\n",
              "          0.04452837, -0.02593034],\n",
              "        [-0.04547248, -0.04464164, -0.0730303 , ..., -0.03949338,\n",
              "         -0.00421986,  0.00306441]]),\n",
              " 'data_filename': 'diabetes_data.csv.gz',\n",
              " 'data_module': 'sklearn.datasets.data',\n",
              " 'feature_names': ['age',\n",
              "  'sex',\n",
              "  'bmi',\n",
              "  'bp',\n",
              "  's1',\n",
              "  's2',\n",
              "  's3',\n",
              "  's4',\n",
              "  's5',\n",
              "  's6'],\n",
              " 'frame': None,\n",
              " 'target': array([151.,  75., 141., 206., 135.,  97., 138.,  63., 110., 310., 101.,\n",
              "         69., 179., 185., 118., 171., 166., 144.,  97., 168.,  68.,  49.,\n",
              "         68., 245., 184., 202., 137.,  85., 131., 283., 129.,  59., 341.,\n",
              "         87.,  65., 102., 265., 276., 252.,  90., 100.,  55.,  61.,  92.,\n",
              "        259.,  53., 190., 142.,  75., 142., 155., 225.,  59., 104., 182.,\n",
              "        128.,  52.,  37., 170., 170.,  61., 144.,  52., 128.,  71., 163.,\n",
              "        150.,  97., 160., 178.,  48., 270., 202., 111.,  85.,  42., 170.,\n",
              "        200., 252., 113., 143.,  51.,  52., 210.,  65., 141.,  55., 134.,\n",
              "         42., 111.,  98., 164.,  48.,  96.,  90., 162., 150., 279.,  92.,\n",
              "         83., 128., 102., 302., 198.,  95.,  53., 134., 144., 232.,  81.,\n",
              "        104.,  59., 246., 297., 258., 229., 275., 281., 179., 200., 200.,\n",
              "        173., 180.,  84., 121., 161.,  99., 109., 115., 268., 274., 158.,\n",
              "        107.,  83., 103., 272.,  85., 280., 336., 281., 118., 317., 235.,\n",
              "         60., 174., 259., 178., 128.,  96., 126., 288.,  88., 292.,  71.,\n",
              "        197., 186.,  25.,  84.,  96., 195.,  53., 217., 172., 131., 214.,\n",
              "         59.,  70., 220., 268., 152.,  47.,  74., 295., 101., 151., 127.,\n",
              "        237., 225.,  81., 151., 107.,  64., 138., 185., 265., 101., 137.,\n",
              "        143., 141.,  79., 292., 178.,  91., 116.,  86., 122.,  72., 129.,\n",
              "        142.,  90., 158.,  39., 196., 222., 277.,  99., 196., 202., 155.,\n",
              "         77., 191.,  70.,  73.,  49.,  65., 263., 248., 296., 214., 185.,\n",
              "         78.,  93., 252., 150.,  77., 208.,  77., 108., 160.,  53., 220.,\n",
              "        154., 259.,  90., 246., 124.,  67.,  72., 257., 262., 275., 177.,\n",
              "         71.,  47., 187., 125.,  78.,  51., 258., 215., 303., 243.,  91.,\n",
              "        150., 310., 153., 346.,  63.,  89.,  50.,  39., 103., 308., 116.,\n",
              "        145.,  74.,  45., 115., 264.,  87., 202., 127., 182., 241.,  66.,\n",
              "         94., 283.,  64., 102., 200., 265.,  94., 230., 181., 156., 233.,\n",
              "         60., 219.,  80.,  68., 332., 248.,  84., 200.,  55.,  85.,  89.,\n",
              "         31., 129.,  83., 275.,  65., 198., 236., 253., 124.,  44., 172.,\n",
              "        114., 142., 109., 180., 144., 163., 147.,  97., 220., 190., 109.,\n",
              "        191., 122., 230., 242., 248., 249., 192., 131., 237.,  78., 135.,\n",
              "        244., 199., 270., 164.,  72.,  96., 306.,  91., 214.,  95., 216.,\n",
              "        263., 178., 113., 200., 139., 139.,  88., 148.,  88., 243.,  71.,\n",
              "         77., 109., 272.,  60.,  54., 221.,  90., 311., 281., 182., 321.,\n",
              "         58., 262., 206., 233., 242., 123., 167.,  63., 197.,  71., 168.,\n",
              "        140., 217., 121., 235., 245.,  40.,  52., 104., 132.,  88.,  69.,\n",
              "        219.,  72., 201., 110.,  51., 277.,  63., 118.,  69., 273., 258.,\n",
              "         43., 198., 242., 232., 175.,  93., 168., 275., 293., 281.,  72.,\n",
              "        140., 189., 181., 209., 136., 261., 113., 131., 174., 257.,  55.,\n",
              "         84.,  42., 146., 212., 233.,  91., 111., 152., 120.,  67., 310.,\n",
              "         94., 183.,  66., 173.,  72.,  49.,  64.,  48., 178., 104., 132.,\n",
              "        220.,  57.]),\n",
              " 'target_filename': 'diabetes_target.csv.gz'}"
            ]
          },
          "metadata": {},
          "execution_count": 24
        }
      ],
      "source": [
        "diabetes"
      ]
    },
    {
      "cell_type": "code",
      "execution_count": 25,
      "id": "5c34f679",
      "metadata": {
        "execution": {
          "iopub.execute_input": "2022-01-22T15:23:41.852783Z",
          "iopub.status.busy": "2022-01-22T15:23:41.851816Z",
          "iopub.status.idle": "2022-01-22T15:23:41.856881Z",
          "shell.execute_reply": "2022-01-22T15:23:41.857376Z",
          "shell.execute_reply.started": "2022-01-22T14:57:43.629687Z"
        },
        "papermill": {
          "duration": 0.028686,
          "end_time": "2022-01-22T15:23:41.857537",
          "exception": false,
          "start_time": "2022-01-22T15:23:41.828851",
          "status": "completed"
        },
        "tags": [],
        "colab": {
          "base_uri": "https://localhost:8080/"
        },
        "id": "5c34f679",
        "outputId": "e76b3734-4c62-4e0c-83db-9b5bcfc372d0"
      },
      "outputs": [
        {
          "output_type": "stream",
          "name": "stdout",
          "text": [
            ".. _diabetes_dataset:\n",
            "\n",
            "Diabetes dataset\n",
            "----------------\n",
            "\n",
            "Ten baseline variables, age, sex, body mass index, average blood\n",
            "pressure, and six blood serum measurements were obtained for each of n =\n",
            "442 diabetes patients, as well as the response of interest, a\n",
            "quantitative measure of disease progression one year after baseline.\n",
            "\n",
            "**Data Set Characteristics:**\n",
            "\n",
            "  :Number of Instances: 442\n",
            "\n",
            "  :Number of Attributes: First 10 columns are numeric predictive values\n",
            "\n",
            "  :Target: Column 11 is a quantitative measure of disease progression one year after baseline\n",
            "\n",
            "  :Attribute Information:\n",
            "      - age     age in years\n",
            "      - sex\n",
            "      - bmi     body mass index\n",
            "      - bp      average blood pressure\n",
            "      - s1      tc, total serum cholesterol\n",
            "      - s2      ldl, low-density lipoproteins\n",
            "      - s3      hdl, high-density lipoproteins\n",
            "      - s4      tch, total cholesterol / HDL\n",
            "      - s5      ltg, possibly log of serum triglycerides level\n",
            "      - s6      glu, blood sugar level\n",
            "\n",
            "Note: Each of these 10 feature variables have been mean centered and scaled by the standard deviation times `n_samples` (i.e. the sum of squares of each column totals 1).\n",
            "\n",
            "Source URL:\n",
            "https://www4.stat.ncsu.edu/~boos/var.select/diabetes.html\n",
            "\n",
            "For more information see:\n",
            "Bradley Efron, Trevor Hastie, Iain Johnstone and Robert Tibshirani (2004) \"Least Angle Regression,\" Annals of Statistics (with discussion), 407-499.\n",
            "(https://web.stanford.edu/~hastie/Papers/LARS/LeastAngle_2002.pdf)\n"
          ]
        }
      ],
      "source": [
        "print(diabetes.DESCR)"
      ]
    },
    {
      "cell_type": "code",
      "execution_count": 26,
      "id": "2e911c7f",
      "metadata": {
        "execution": {
          "iopub.execute_input": "2022-01-22T15:23:41.904671Z",
          "iopub.status.busy": "2022-01-22T15:23:41.903639Z",
          "iopub.status.idle": "2022-01-22T15:23:41.907015Z",
          "shell.execute_reply": "2022-01-22T15:23:41.906518Z",
          "shell.execute_reply.started": "2022-01-22T15:00:53.940579Z"
        },
        "papermill": {
          "duration": 0.029071,
          "end_time": "2022-01-22T15:23:41.907153",
          "exception": false,
          "start_time": "2022-01-22T15:23:41.878082",
          "status": "completed"
        },
        "tags": [],
        "colab": {
          "base_uri": "https://localhost:8080/"
        },
        "id": "2e911c7f",
        "outputId": "5773b70d-14a6-4019-c566-4eeb2f3127f1"
      },
      "outputs": [
        {
          "output_type": "stream",
          "name": "stdout",
          "text": [
            "['age', 'sex', 'bmi', 'bp', 's1', 's2', 's3', 's4', 's5', 's6']\n"
          ]
        }
      ],
      "source": [
        "print(diabetes.feature_names)"
      ]
    },
    {
      "cell_type": "code",
      "execution_count": 27,
      "id": "5f5d59bc",
      "metadata": {
        "execution": {
          "iopub.execute_input": "2022-01-22T15:23:41.956949Z",
          "iopub.status.busy": "2022-01-22T15:23:41.956341Z",
          "iopub.status.idle": "2022-01-22T15:23:41.958350Z",
          "shell.execute_reply": "2022-01-22T15:23:41.958898Z",
          "shell.execute_reply.started": "2022-01-22T15:01:19.802179Z"
        },
        "papermill": {
          "duration": 0.031007,
          "end_time": "2022-01-22T15:23:41.959062",
          "exception": false,
          "start_time": "2022-01-22T15:23:41.928055",
          "status": "completed"
        },
        "tags": [],
        "id": "5f5d59bc"
      },
      "outputs": [],
      "source": [
        "X = diabetes.data\n",
        "Y = diabetes.target"
      ]
    },
    {
      "cell_type": "code",
      "execution_count": 28,
      "id": "ccac2d18",
      "metadata": {
        "execution": {
          "iopub.execute_input": "2022-01-22T15:23:42.003451Z",
          "iopub.status.busy": "2022-01-22T15:23:42.002846Z",
          "iopub.status.idle": "2022-01-22T15:23:42.007501Z",
          "shell.execute_reply": "2022-01-22T15:23:42.008065Z",
          "shell.execute_reply.started": "2022-01-22T15:01:31.721431Z"
        },
        "papermill": {
          "duration": 0.028395,
          "end_time": "2022-01-22T15:23:42.008220",
          "exception": false,
          "start_time": "2022-01-22T15:23:41.979825",
          "status": "completed"
        },
        "tags": [],
        "colab": {
          "base_uri": "https://localhost:8080/"
        },
        "id": "ccac2d18",
        "outputId": "0025b186-ccef-4365-a579-66b654adaa75"
      },
      "outputs": [
        {
          "output_type": "execute_result",
          "data": {
            "text/plain": [
              "((442, 10), (442,))"
            ]
          },
          "metadata": {},
          "execution_count": 28
        }
      ],
      "source": [
        "X.shape, Y.shape"
      ]
    },
    {
      "cell_type": "code",
      "execution_count": 29,
      "id": "146a708c",
      "metadata": {
        "execution": {
          "iopub.execute_input": "2022-01-22T15:23:42.054188Z",
          "iopub.status.busy": "2022-01-22T15:23:42.053596Z",
          "iopub.status.idle": "2022-01-22T15:23:42.056289Z",
          "shell.execute_reply": "2022-01-22T15:23:42.056867Z",
          "shell.execute_reply.started": "2022-01-22T15:04:34.480688Z"
        },
        "papermill": {
          "duration": 0.027454,
          "end_time": "2022-01-22T15:23:42.057017",
          "exception": false,
          "start_time": "2022-01-22T15:23:42.029563",
          "status": "completed"
        },
        "tags": [],
        "id": "146a708c"
      },
      "outputs": [],
      "source": [
        "import pandas as pd\n"
      ]
    },
    {
      "cell_type": "code",
      "execution_count": 30,
      "id": "409832d6",
      "metadata": {
        "execution": {
          "iopub.execute_input": "2022-01-22T15:23:42.102640Z",
          "iopub.status.busy": "2022-01-22T15:23:42.102009Z",
          "iopub.status.idle": "2022-01-22T15:23:43.543601Z",
          "shell.execute_reply": "2022-01-22T15:23:43.542959Z",
          "shell.execute_reply.started": "2022-01-22T15:05:29.897755Z"
        },
        "papermill": {
          "duration": 1.465408,
          "end_time": "2022-01-22T15:23:43.543753",
          "exception": false,
          "start_time": "2022-01-22T15:23:42.078345",
          "status": "completed"
        },
        "tags": [],
        "colab": {
          "base_uri": "https://localhost:8080/"
        },
        "id": "409832d6",
        "outputId": "994561fb-985f-4fb9-ef87-5dd9ad7cf2f8"
      },
      "outputs": [
        {
          "output_type": "stream",
          "name": "stdout",
          "text": [
            "--2022-01-23 00:37:54--  https://github.com/dataprofessor/data/raw/master/BostonHousing.csv\n",
            "Resolving github.com (github.com)... 140.82.114.4\n",
            "Connecting to github.com (github.com)|140.82.114.4|:443... connected.\n",
            "HTTP request sent, awaiting response... 302 Found\n",
            "Location: https://raw.githubusercontent.com/dataprofessor/data/master/BostonHousing.csv [following]\n",
            "--2022-01-23 00:37:55--  https://raw.githubusercontent.com/dataprofessor/data/master/BostonHousing.csv\n",
            "Resolving raw.githubusercontent.com (raw.githubusercontent.com)... 185.199.108.133, 185.199.109.133, 185.199.111.133, ...\n",
            "Connecting to raw.githubusercontent.com (raw.githubusercontent.com)|185.199.108.133|:443... connected.\n",
            "HTTP request sent, awaiting response... 200 OK\n",
            "Length: 36242 (35K) [text/plain]\n",
            "Saving to: ‘BostonHousing.csv.1’\n",
            "\n",
            "BostonHousing.csv.1 100%[===================>]  35.39K  --.-KB/s    in 0.002s  \n",
            "\n",
            "2022-01-23 00:37:55 (18.8 MB/s) - ‘BostonHousing.csv.1’ saved [36242/36242]\n",
            "\n"
          ]
        }
      ],
      "source": [
        "! wget https://github.com/dataprofessor/data/raw/master/BostonHousing.csv"
      ]
    },
    {
      "cell_type": "code",
      "execution_count": 31,
      "id": "c6de9afa",
      "metadata": {
        "execution": {
          "iopub.execute_input": "2022-01-22T15:23:43.601630Z",
          "iopub.status.busy": "2022-01-22T15:23:43.600929Z",
          "iopub.status.idle": "2022-01-22T15:23:43.646264Z",
          "shell.execute_reply": "2022-01-22T15:23:43.645646Z",
          "shell.execute_reply.started": "2022-01-22T15:05:54.431300Z"
        },
        "papermill": {
          "duration": 0.076494,
          "end_time": "2022-01-22T15:23:43.646449",
          "exception": false,
          "start_time": "2022-01-22T15:23:43.569955",
          "status": "completed"
        },
        "tags": [],
        "colab": {
          "base_uri": "https://localhost:8080/",
          "height": 424
        },
        "id": "c6de9afa",
        "outputId": "bc7893e3-3d16-45f0-9ec0-f6ef06c28d3e"
      },
      "outputs": [
        {
          "output_type": "execute_result",
          "data": {
            "text/html": [
              "\n",
              "  <div id=\"df-f276cdc6-6471-401e-9188-22ba6d0087a7\">\n",
              "    <div class=\"colab-df-container\">\n",
              "      <div>\n",
              "<style scoped>\n",
              "    .dataframe tbody tr th:only-of-type {\n",
              "        vertical-align: middle;\n",
              "    }\n",
              "\n",
              "    .dataframe tbody tr th {\n",
              "        vertical-align: top;\n",
              "    }\n",
              "\n",
              "    .dataframe thead th {\n",
              "        text-align: right;\n",
              "    }\n",
              "</style>\n",
              "<table border=\"1\" class=\"dataframe\">\n",
              "  <thead>\n",
              "    <tr style=\"text-align: right;\">\n",
              "      <th></th>\n",
              "      <th>crim</th>\n",
              "      <th>zn</th>\n",
              "      <th>indus</th>\n",
              "      <th>chas</th>\n",
              "      <th>nox</th>\n",
              "      <th>rm</th>\n",
              "      <th>age</th>\n",
              "      <th>dis</th>\n",
              "      <th>rad</th>\n",
              "      <th>tax</th>\n",
              "      <th>ptratio</th>\n",
              "      <th>b</th>\n",
              "      <th>lstat</th>\n",
              "      <th>medv</th>\n",
              "    </tr>\n",
              "  </thead>\n",
              "  <tbody>\n",
              "    <tr>\n",
              "      <th>0</th>\n",
              "      <td>0.00632</td>\n",
              "      <td>18.0</td>\n",
              "      <td>2.31</td>\n",
              "      <td>0</td>\n",
              "      <td>0.538</td>\n",
              "      <td>6.575</td>\n",
              "      <td>65.2</td>\n",
              "      <td>4.0900</td>\n",
              "      <td>1</td>\n",
              "      <td>296</td>\n",
              "      <td>15.3</td>\n",
              "      <td>396.90</td>\n",
              "      <td>4.98</td>\n",
              "      <td>24.0</td>\n",
              "    </tr>\n",
              "    <tr>\n",
              "      <th>1</th>\n",
              "      <td>0.02731</td>\n",
              "      <td>0.0</td>\n",
              "      <td>7.07</td>\n",
              "      <td>0</td>\n",
              "      <td>0.469</td>\n",
              "      <td>6.421</td>\n",
              "      <td>78.9</td>\n",
              "      <td>4.9671</td>\n",
              "      <td>2</td>\n",
              "      <td>242</td>\n",
              "      <td>17.8</td>\n",
              "      <td>396.90</td>\n",
              "      <td>9.14</td>\n",
              "      <td>21.6</td>\n",
              "    </tr>\n",
              "    <tr>\n",
              "      <th>2</th>\n",
              "      <td>0.02729</td>\n",
              "      <td>0.0</td>\n",
              "      <td>7.07</td>\n",
              "      <td>0</td>\n",
              "      <td>0.469</td>\n",
              "      <td>7.185</td>\n",
              "      <td>61.1</td>\n",
              "      <td>4.9671</td>\n",
              "      <td>2</td>\n",
              "      <td>242</td>\n",
              "      <td>17.8</td>\n",
              "      <td>392.83</td>\n",
              "      <td>4.03</td>\n",
              "      <td>34.7</td>\n",
              "    </tr>\n",
              "    <tr>\n",
              "      <th>3</th>\n",
              "      <td>0.03237</td>\n",
              "      <td>0.0</td>\n",
              "      <td>2.18</td>\n",
              "      <td>0</td>\n",
              "      <td>0.458</td>\n",
              "      <td>6.998</td>\n",
              "      <td>45.8</td>\n",
              "      <td>6.0622</td>\n",
              "      <td>3</td>\n",
              "      <td>222</td>\n",
              "      <td>18.7</td>\n",
              "      <td>394.63</td>\n",
              "      <td>2.94</td>\n",
              "      <td>33.4</td>\n",
              "    </tr>\n",
              "    <tr>\n",
              "      <th>4</th>\n",
              "      <td>0.06905</td>\n",
              "      <td>0.0</td>\n",
              "      <td>2.18</td>\n",
              "      <td>0</td>\n",
              "      <td>0.458</td>\n",
              "      <td>7.147</td>\n",
              "      <td>54.2</td>\n",
              "      <td>6.0622</td>\n",
              "      <td>3</td>\n",
              "      <td>222</td>\n",
              "      <td>18.7</td>\n",
              "      <td>396.90</td>\n",
              "      <td>5.33</td>\n",
              "      <td>36.2</td>\n",
              "    </tr>\n",
              "    <tr>\n",
              "      <th>...</th>\n",
              "      <td>...</td>\n",
              "      <td>...</td>\n",
              "      <td>...</td>\n",
              "      <td>...</td>\n",
              "      <td>...</td>\n",
              "      <td>...</td>\n",
              "      <td>...</td>\n",
              "      <td>...</td>\n",
              "      <td>...</td>\n",
              "      <td>...</td>\n",
              "      <td>...</td>\n",
              "      <td>...</td>\n",
              "      <td>...</td>\n",
              "      <td>...</td>\n",
              "    </tr>\n",
              "    <tr>\n",
              "      <th>501</th>\n",
              "      <td>0.06263</td>\n",
              "      <td>0.0</td>\n",
              "      <td>11.93</td>\n",
              "      <td>0</td>\n",
              "      <td>0.573</td>\n",
              "      <td>6.593</td>\n",
              "      <td>69.1</td>\n",
              "      <td>2.4786</td>\n",
              "      <td>1</td>\n",
              "      <td>273</td>\n",
              "      <td>21.0</td>\n",
              "      <td>391.99</td>\n",
              "      <td>9.67</td>\n",
              "      <td>22.4</td>\n",
              "    </tr>\n",
              "    <tr>\n",
              "      <th>502</th>\n",
              "      <td>0.04527</td>\n",
              "      <td>0.0</td>\n",
              "      <td>11.93</td>\n",
              "      <td>0</td>\n",
              "      <td>0.573</td>\n",
              "      <td>6.120</td>\n",
              "      <td>76.7</td>\n",
              "      <td>2.2875</td>\n",
              "      <td>1</td>\n",
              "      <td>273</td>\n",
              "      <td>21.0</td>\n",
              "      <td>396.90</td>\n",
              "      <td>9.08</td>\n",
              "      <td>20.6</td>\n",
              "    </tr>\n",
              "    <tr>\n",
              "      <th>503</th>\n",
              "      <td>0.06076</td>\n",
              "      <td>0.0</td>\n",
              "      <td>11.93</td>\n",
              "      <td>0</td>\n",
              "      <td>0.573</td>\n",
              "      <td>6.976</td>\n",
              "      <td>91.0</td>\n",
              "      <td>2.1675</td>\n",
              "      <td>1</td>\n",
              "      <td>273</td>\n",
              "      <td>21.0</td>\n",
              "      <td>396.90</td>\n",
              "      <td>5.64</td>\n",
              "      <td>23.9</td>\n",
              "    </tr>\n",
              "    <tr>\n",
              "      <th>504</th>\n",
              "      <td>0.10959</td>\n",
              "      <td>0.0</td>\n",
              "      <td>11.93</td>\n",
              "      <td>0</td>\n",
              "      <td>0.573</td>\n",
              "      <td>6.794</td>\n",
              "      <td>89.3</td>\n",
              "      <td>2.3889</td>\n",
              "      <td>1</td>\n",
              "      <td>273</td>\n",
              "      <td>21.0</td>\n",
              "      <td>393.45</td>\n",
              "      <td>6.48</td>\n",
              "      <td>22.0</td>\n",
              "    </tr>\n",
              "    <tr>\n",
              "      <th>505</th>\n",
              "      <td>0.04741</td>\n",
              "      <td>0.0</td>\n",
              "      <td>11.93</td>\n",
              "      <td>0</td>\n",
              "      <td>0.573</td>\n",
              "      <td>6.030</td>\n",
              "      <td>80.8</td>\n",
              "      <td>2.5050</td>\n",
              "      <td>1</td>\n",
              "      <td>273</td>\n",
              "      <td>21.0</td>\n",
              "      <td>396.90</td>\n",
              "      <td>7.88</td>\n",
              "      <td>11.9</td>\n",
              "    </tr>\n",
              "  </tbody>\n",
              "</table>\n",
              "<p>506 rows × 14 columns</p>\n",
              "</div>\n",
              "      <button class=\"colab-df-convert\" onclick=\"convertToInteractive('df-f276cdc6-6471-401e-9188-22ba6d0087a7')\"\n",
              "              title=\"Convert this dataframe to an interactive table.\"\n",
              "              style=\"display:none;\">\n",
              "        \n",
              "  <svg xmlns=\"http://www.w3.org/2000/svg\" height=\"24px\"viewBox=\"0 0 24 24\"\n",
              "       width=\"24px\">\n",
              "    <path d=\"M0 0h24v24H0V0z\" fill=\"none\"/>\n",
              "    <path d=\"M18.56 5.44l.94 2.06.94-2.06 2.06-.94-2.06-.94-.94-2.06-.94 2.06-2.06.94zm-11 1L8.5 8.5l.94-2.06 2.06-.94-2.06-.94L8.5 2.5l-.94 2.06-2.06.94zm10 10l.94 2.06.94-2.06 2.06-.94-2.06-.94-.94-2.06-.94 2.06-2.06.94z\"/><path d=\"M17.41 7.96l-1.37-1.37c-.4-.4-.92-.59-1.43-.59-.52 0-1.04.2-1.43.59L10.3 9.45l-7.72 7.72c-.78.78-.78 2.05 0 2.83L4 21.41c.39.39.9.59 1.41.59.51 0 1.02-.2 1.41-.59l7.78-7.78 2.81-2.81c.8-.78.8-2.07 0-2.86zM5.41 20L4 18.59l7.72-7.72 1.47 1.35L5.41 20z\"/>\n",
              "  </svg>\n",
              "      </button>\n",
              "      \n",
              "  <style>\n",
              "    .colab-df-container {\n",
              "      display:flex;\n",
              "      flex-wrap:wrap;\n",
              "      gap: 12px;\n",
              "    }\n",
              "\n",
              "    .colab-df-convert {\n",
              "      background-color: #E8F0FE;\n",
              "      border: none;\n",
              "      border-radius: 50%;\n",
              "      cursor: pointer;\n",
              "      display: none;\n",
              "      fill: #1967D2;\n",
              "      height: 32px;\n",
              "      padding: 0 0 0 0;\n",
              "      width: 32px;\n",
              "    }\n",
              "\n",
              "    .colab-df-convert:hover {\n",
              "      background-color: #E2EBFA;\n",
              "      box-shadow: 0px 1px 2px rgba(60, 64, 67, 0.3), 0px 1px 3px 1px rgba(60, 64, 67, 0.15);\n",
              "      fill: #174EA6;\n",
              "    }\n",
              "\n",
              "    [theme=dark] .colab-df-convert {\n",
              "      background-color: #3B4455;\n",
              "      fill: #D2E3FC;\n",
              "    }\n",
              "\n",
              "    [theme=dark] .colab-df-convert:hover {\n",
              "      background-color: #434B5C;\n",
              "      box-shadow: 0px 1px 3px 1px rgba(0, 0, 0, 0.15);\n",
              "      filter: drop-shadow(0px 1px 2px rgba(0, 0, 0, 0.3));\n",
              "      fill: #FFFFFF;\n",
              "    }\n",
              "  </style>\n",
              "\n",
              "      <script>\n",
              "        const buttonEl =\n",
              "          document.querySelector('#df-f276cdc6-6471-401e-9188-22ba6d0087a7 button.colab-df-convert');\n",
              "        buttonEl.style.display =\n",
              "          google.colab.kernel.accessAllowed ? 'block' : 'none';\n",
              "\n",
              "        async function convertToInteractive(key) {\n",
              "          const element = document.querySelector('#df-f276cdc6-6471-401e-9188-22ba6d0087a7');\n",
              "          const dataTable =\n",
              "            await google.colab.kernel.invokeFunction('convertToInteractive',\n",
              "                                                     [key], {});\n",
              "          if (!dataTable) return;\n",
              "\n",
              "          const docLinkHtml = 'Like what you see? Visit the ' +\n",
              "            '<a target=\"_blank\" href=https://colab.research.google.com/notebooks/data_table.ipynb>data table notebook</a>'\n",
              "            + ' to learn more about interactive tables.';\n",
              "          element.innerHTML = '';\n",
              "          dataTable['output_type'] = 'display_data';\n",
              "          await google.colab.output.renderOutput(dataTable, element);\n",
              "          const docLink = document.createElement('div');\n",
              "          docLink.innerHTML = docLinkHtml;\n",
              "          element.appendChild(docLink);\n",
              "        }\n",
              "      </script>\n",
              "    </div>\n",
              "  </div>\n",
              "  "
            ],
            "text/plain": [
              "        crim    zn  indus  chas    nox  ...  tax  ptratio       b  lstat  medv\n",
              "0    0.00632  18.0   2.31     0  0.538  ...  296     15.3  396.90   4.98  24.0\n",
              "1    0.02731   0.0   7.07     0  0.469  ...  242     17.8  396.90   9.14  21.6\n",
              "2    0.02729   0.0   7.07     0  0.469  ...  242     17.8  392.83   4.03  34.7\n",
              "3    0.03237   0.0   2.18     0  0.458  ...  222     18.7  394.63   2.94  33.4\n",
              "4    0.06905   0.0   2.18     0  0.458  ...  222     18.7  396.90   5.33  36.2\n",
              "..       ...   ...    ...   ...    ...  ...  ...      ...     ...    ...   ...\n",
              "501  0.06263   0.0  11.93     0  0.573  ...  273     21.0  391.99   9.67  22.4\n",
              "502  0.04527   0.0  11.93     0  0.573  ...  273     21.0  396.90   9.08  20.6\n",
              "503  0.06076   0.0  11.93     0  0.573  ...  273     21.0  396.90   5.64  23.9\n",
              "504  0.10959   0.0  11.93     0  0.573  ...  273     21.0  393.45   6.48  22.0\n",
              "505  0.04741   0.0  11.93     0  0.573  ...  273     21.0  396.90   7.88  11.9\n",
              "\n",
              "[506 rows x 14 columns]"
            ]
          },
          "metadata": {},
          "execution_count": 31
        }
      ],
      "source": [
        "BostonHousing = pd.read_csv(\"BostonHousing.csv\")\n",
        "BostonHousing"
      ]
    },
    {
      "cell_type": "code",
      "execution_count": 32,
      "id": "e2ad9c43",
      "metadata": {
        "execution": {
          "iopub.execute_input": "2022-01-22T15:23:43.708217Z",
          "iopub.status.busy": "2022-01-22T15:23:43.707584Z",
          "iopub.status.idle": "2022-01-22T15:23:43.709903Z",
          "shell.execute_reply": "2022-01-22T15:23:43.710496Z",
          "shell.execute_reply.started": "2022-01-22T15:06:15.296411Z"
        },
        "papermill": {
          "duration": 0.039172,
          "end_time": "2022-01-22T15:23:43.710660",
          "exception": false,
          "start_time": "2022-01-22T15:23:43.671488",
          "status": "completed"
        },
        "tags": [],
        "colab": {
          "base_uri": "https://localhost:8080/"
        },
        "id": "e2ad9c43",
        "outputId": "ea83cf33-3109-49e2-e875-f8feaaf8c12a"
      },
      "outputs": [
        {
          "output_type": "execute_result",
          "data": {
            "text/plain": [
              "0      24.0\n",
              "1      21.6\n",
              "2      34.7\n",
              "3      33.4\n",
              "4      36.2\n",
              "       ... \n",
              "501    22.4\n",
              "502    20.6\n",
              "503    23.9\n",
              "504    22.0\n",
              "505    11.9\n",
              "Name: medv, Length: 506, dtype: float64"
            ]
          },
          "metadata": {},
          "execution_count": 32
        }
      ],
      "source": [
        "Y= BostonHousing.medv\n",
        "Y"
      ]
    },
    {
      "cell_type": "code",
      "execution_count": 33,
      "id": "1d16b9a2",
      "metadata": {
        "execution": {
          "iopub.execute_input": "2022-01-22T15:23:43.763559Z",
          "iopub.status.busy": "2022-01-22T15:23:43.762960Z",
          "iopub.status.idle": "2022-01-22T15:23:43.792595Z",
          "shell.execute_reply": "2022-01-22T15:23:43.792045Z",
          "shell.execute_reply.started": "2022-01-22T15:06:46.886606Z"
        },
        "papermill": {
          "duration": 0.057076,
          "end_time": "2022-01-22T15:23:43.792747",
          "exception": false,
          "start_time": "2022-01-22T15:23:43.735671",
          "status": "completed"
        },
        "tags": [],
        "colab": {
          "base_uri": "https://localhost:8080/",
          "height": 424
        },
        "id": "1d16b9a2",
        "outputId": "83daba5e-11aa-4033-f48b-81cb14af6eb4"
      },
      "outputs": [
        {
          "output_type": "execute_result",
          "data": {
            "text/html": [
              "\n",
              "  <div id=\"df-aff14add-b523-4fda-8d07-fb9d2574b85d\">\n",
              "    <div class=\"colab-df-container\">\n",
              "      <div>\n",
              "<style scoped>\n",
              "    .dataframe tbody tr th:only-of-type {\n",
              "        vertical-align: middle;\n",
              "    }\n",
              "\n",
              "    .dataframe tbody tr th {\n",
              "        vertical-align: top;\n",
              "    }\n",
              "\n",
              "    .dataframe thead th {\n",
              "        text-align: right;\n",
              "    }\n",
              "</style>\n",
              "<table border=\"1\" class=\"dataframe\">\n",
              "  <thead>\n",
              "    <tr style=\"text-align: right;\">\n",
              "      <th></th>\n",
              "      <th>crim</th>\n",
              "      <th>zn</th>\n",
              "      <th>indus</th>\n",
              "      <th>chas</th>\n",
              "      <th>nox</th>\n",
              "      <th>rm</th>\n",
              "      <th>age</th>\n",
              "      <th>dis</th>\n",
              "      <th>rad</th>\n",
              "      <th>tax</th>\n",
              "      <th>ptratio</th>\n",
              "      <th>b</th>\n",
              "      <th>lstat</th>\n",
              "    </tr>\n",
              "  </thead>\n",
              "  <tbody>\n",
              "    <tr>\n",
              "      <th>0</th>\n",
              "      <td>0.00632</td>\n",
              "      <td>18.0</td>\n",
              "      <td>2.31</td>\n",
              "      <td>0</td>\n",
              "      <td>0.538</td>\n",
              "      <td>6.575</td>\n",
              "      <td>65.2</td>\n",
              "      <td>4.0900</td>\n",
              "      <td>1</td>\n",
              "      <td>296</td>\n",
              "      <td>15.3</td>\n",
              "      <td>396.90</td>\n",
              "      <td>4.98</td>\n",
              "    </tr>\n",
              "    <tr>\n",
              "      <th>1</th>\n",
              "      <td>0.02731</td>\n",
              "      <td>0.0</td>\n",
              "      <td>7.07</td>\n",
              "      <td>0</td>\n",
              "      <td>0.469</td>\n",
              "      <td>6.421</td>\n",
              "      <td>78.9</td>\n",
              "      <td>4.9671</td>\n",
              "      <td>2</td>\n",
              "      <td>242</td>\n",
              "      <td>17.8</td>\n",
              "      <td>396.90</td>\n",
              "      <td>9.14</td>\n",
              "    </tr>\n",
              "    <tr>\n",
              "      <th>2</th>\n",
              "      <td>0.02729</td>\n",
              "      <td>0.0</td>\n",
              "      <td>7.07</td>\n",
              "      <td>0</td>\n",
              "      <td>0.469</td>\n",
              "      <td>7.185</td>\n",
              "      <td>61.1</td>\n",
              "      <td>4.9671</td>\n",
              "      <td>2</td>\n",
              "      <td>242</td>\n",
              "      <td>17.8</td>\n",
              "      <td>392.83</td>\n",
              "      <td>4.03</td>\n",
              "    </tr>\n",
              "    <tr>\n",
              "      <th>3</th>\n",
              "      <td>0.03237</td>\n",
              "      <td>0.0</td>\n",
              "      <td>2.18</td>\n",
              "      <td>0</td>\n",
              "      <td>0.458</td>\n",
              "      <td>6.998</td>\n",
              "      <td>45.8</td>\n",
              "      <td>6.0622</td>\n",
              "      <td>3</td>\n",
              "      <td>222</td>\n",
              "      <td>18.7</td>\n",
              "      <td>394.63</td>\n",
              "      <td>2.94</td>\n",
              "    </tr>\n",
              "    <tr>\n",
              "      <th>4</th>\n",
              "      <td>0.06905</td>\n",
              "      <td>0.0</td>\n",
              "      <td>2.18</td>\n",
              "      <td>0</td>\n",
              "      <td>0.458</td>\n",
              "      <td>7.147</td>\n",
              "      <td>54.2</td>\n",
              "      <td>6.0622</td>\n",
              "      <td>3</td>\n",
              "      <td>222</td>\n",
              "      <td>18.7</td>\n",
              "      <td>396.90</td>\n",
              "      <td>5.33</td>\n",
              "    </tr>\n",
              "    <tr>\n",
              "      <th>...</th>\n",
              "      <td>...</td>\n",
              "      <td>...</td>\n",
              "      <td>...</td>\n",
              "      <td>...</td>\n",
              "      <td>...</td>\n",
              "      <td>...</td>\n",
              "      <td>...</td>\n",
              "      <td>...</td>\n",
              "      <td>...</td>\n",
              "      <td>...</td>\n",
              "      <td>...</td>\n",
              "      <td>...</td>\n",
              "      <td>...</td>\n",
              "    </tr>\n",
              "    <tr>\n",
              "      <th>501</th>\n",
              "      <td>0.06263</td>\n",
              "      <td>0.0</td>\n",
              "      <td>11.93</td>\n",
              "      <td>0</td>\n",
              "      <td>0.573</td>\n",
              "      <td>6.593</td>\n",
              "      <td>69.1</td>\n",
              "      <td>2.4786</td>\n",
              "      <td>1</td>\n",
              "      <td>273</td>\n",
              "      <td>21.0</td>\n",
              "      <td>391.99</td>\n",
              "      <td>9.67</td>\n",
              "    </tr>\n",
              "    <tr>\n",
              "      <th>502</th>\n",
              "      <td>0.04527</td>\n",
              "      <td>0.0</td>\n",
              "      <td>11.93</td>\n",
              "      <td>0</td>\n",
              "      <td>0.573</td>\n",
              "      <td>6.120</td>\n",
              "      <td>76.7</td>\n",
              "      <td>2.2875</td>\n",
              "      <td>1</td>\n",
              "      <td>273</td>\n",
              "      <td>21.0</td>\n",
              "      <td>396.90</td>\n",
              "      <td>9.08</td>\n",
              "    </tr>\n",
              "    <tr>\n",
              "      <th>503</th>\n",
              "      <td>0.06076</td>\n",
              "      <td>0.0</td>\n",
              "      <td>11.93</td>\n",
              "      <td>0</td>\n",
              "      <td>0.573</td>\n",
              "      <td>6.976</td>\n",
              "      <td>91.0</td>\n",
              "      <td>2.1675</td>\n",
              "      <td>1</td>\n",
              "      <td>273</td>\n",
              "      <td>21.0</td>\n",
              "      <td>396.90</td>\n",
              "      <td>5.64</td>\n",
              "    </tr>\n",
              "    <tr>\n",
              "      <th>504</th>\n",
              "      <td>0.10959</td>\n",
              "      <td>0.0</td>\n",
              "      <td>11.93</td>\n",
              "      <td>0</td>\n",
              "      <td>0.573</td>\n",
              "      <td>6.794</td>\n",
              "      <td>89.3</td>\n",
              "      <td>2.3889</td>\n",
              "      <td>1</td>\n",
              "      <td>273</td>\n",
              "      <td>21.0</td>\n",
              "      <td>393.45</td>\n",
              "      <td>6.48</td>\n",
              "    </tr>\n",
              "    <tr>\n",
              "      <th>505</th>\n",
              "      <td>0.04741</td>\n",
              "      <td>0.0</td>\n",
              "      <td>11.93</td>\n",
              "      <td>0</td>\n",
              "      <td>0.573</td>\n",
              "      <td>6.030</td>\n",
              "      <td>80.8</td>\n",
              "      <td>2.5050</td>\n",
              "      <td>1</td>\n",
              "      <td>273</td>\n",
              "      <td>21.0</td>\n",
              "      <td>396.90</td>\n",
              "      <td>7.88</td>\n",
              "    </tr>\n",
              "  </tbody>\n",
              "</table>\n",
              "<p>506 rows × 13 columns</p>\n",
              "</div>\n",
              "      <button class=\"colab-df-convert\" onclick=\"convertToInteractive('df-aff14add-b523-4fda-8d07-fb9d2574b85d')\"\n",
              "              title=\"Convert this dataframe to an interactive table.\"\n",
              "              style=\"display:none;\">\n",
              "        \n",
              "  <svg xmlns=\"http://www.w3.org/2000/svg\" height=\"24px\"viewBox=\"0 0 24 24\"\n",
              "       width=\"24px\">\n",
              "    <path d=\"M0 0h24v24H0V0z\" fill=\"none\"/>\n",
              "    <path d=\"M18.56 5.44l.94 2.06.94-2.06 2.06-.94-2.06-.94-.94-2.06-.94 2.06-2.06.94zm-11 1L8.5 8.5l.94-2.06 2.06-.94-2.06-.94L8.5 2.5l-.94 2.06-2.06.94zm10 10l.94 2.06.94-2.06 2.06-.94-2.06-.94-.94-2.06-.94 2.06-2.06.94z\"/><path d=\"M17.41 7.96l-1.37-1.37c-.4-.4-.92-.59-1.43-.59-.52 0-1.04.2-1.43.59L10.3 9.45l-7.72 7.72c-.78.78-.78 2.05 0 2.83L4 21.41c.39.39.9.59 1.41.59.51 0 1.02-.2 1.41-.59l7.78-7.78 2.81-2.81c.8-.78.8-2.07 0-2.86zM5.41 20L4 18.59l7.72-7.72 1.47 1.35L5.41 20z\"/>\n",
              "  </svg>\n",
              "      </button>\n",
              "      \n",
              "  <style>\n",
              "    .colab-df-container {\n",
              "      display:flex;\n",
              "      flex-wrap:wrap;\n",
              "      gap: 12px;\n",
              "    }\n",
              "\n",
              "    .colab-df-convert {\n",
              "      background-color: #E8F0FE;\n",
              "      border: none;\n",
              "      border-radius: 50%;\n",
              "      cursor: pointer;\n",
              "      display: none;\n",
              "      fill: #1967D2;\n",
              "      height: 32px;\n",
              "      padding: 0 0 0 0;\n",
              "      width: 32px;\n",
              "    }\n",
              "\n",
              "    .colab-df-convert:hover {\n",
              "      background-color: #E2EBFA;\n",
              "      box-shadow: 0px 1px 2px rgba(60, 64, 67, 0.3), 0px 1px 3px 1px rgba(60, 64, 67, 0.15);\n",
              "      fill: #174EA6;\n",
              "    }\n",
              "\n",
              "    [theme=dark] .colab-df-convert {\n",
              "      background-color: #3B4455;\n",
              "      fill: #D2E3FC;\n",
              "    }\n",
              "\n",
              "    [theme=dark] .colab-df-convert:hover {\n",
              "      background-color: #434B5C;\n",
              "      box-shadow: 0px 1px 3px 1px rgba(0, 0, 0, 0.15);\n",
              "      filter: drop-shadow(0px 1px 2px rgba(0, 0, 0, 0.3));\n",
              "      fill: #FFFFFF;\n",
              "    }\n",
              "  </style>\n",
              "\n",
              "      <script>\n",
              "        const buttonEl =\n",
              "          document.querySelector('#df-aff14add-b523-4fda-8d07-fb9d2574b85d button.colab-df-convert');\n",
              "        buttonEl.style.display =\n",
              "          google.colab.kernel.accessAllowed ? 'block' : 'none';\n",
              "\n",
              "        async function convertToInteractive(key) {\n",
              "          const element = document.querySelector('#df-aff14add-b523-4fda-8d07-fb9d2574b85d');\n",
              "          const dataTable =\n",
              "            await google.colab.kernel.invokeFunction('convertToInteractive',\n",
              "                                                     [key], {});\n",
              "          if (!dataTable) return;\n",
              "\n",
              "          const docLinkHtml = 'Like what you see? Visit the ' +\n",
              "            '<a target=\"_blank\" href=https://colab.research.google.com/notebooks/data_table.ipynb>data table notebook</a>'\n",
              "            + ' to learn more about interactive tables.';\n",
              "          element.innerHTML = '';\n",
              "          dataTable['output_type'] = 'display_data';\n",
              "          await google.colab.output.renderOutput(dataTable, element);\n",
              "          const docLink = document.createElement('div');\n",
              "          docLink.innerHTML = docLinkHtml;\n",
              "          element.appendChild(docLink);\n",
              "        }\n",
              "      </script>\n",
              "    </div>\n",
              "  </div>\n",
              "  "
            ],
            "text/plain": [
              "        crim    zn  indus  chas    nox  ...  rad  tax  ptratio       b  lstat\n",
              "0    0.00632  18.0   2.31     0  0.538  ...    1  296     15.3  396.90   4.98\n",
              "1    0.02731   0.0   7.07     0  0.469  ...    2  242     17.8  396.90   9.14\n",
              "2    0.02729   0.0   7.07     0  0.469  ...    2  242     17.8  392.83   4.03\n",
              "3    0.03237   0.0   2.18     0  0.458  ...    3  222     18.7  394.63   2.94\n",
              "4    0.06905   0.0   2.18     0  0.458  ...    3  222     18.7  396.90   5.33\n",
              "..       ...   ...    ...   ...    ...  ...  ...  ...      ...     ...    ...\n",
              "501  0.06263   0.0  11.93     0  0.573  ...    1  273     21.0  391.99   9.67\n",
              "502  0.04527   0.0  11.93     0  0.573  ...    1  273     21.0  396.90   9.08\n",
              "503  0.06076   0.0  11.93     0  0.573  ...    1  273     21.0  396.90   5.64\n",
              "504  0.10959   0.0  11.93     0  0.573  ...    1  273     21.0  393.45   6.48\n",
              "505  0.04741   0.0  11.93     0  0.573  ...    1  273     21.0  396.90   7.88\n",
              "\n",
              "[506 rows x 13 columns]"
            ]
          },
          "metadata": {},
          "execution_count": 33
        }
      ],
      "source": [
        "X= BostonHousing.drop(['medv'],axis= 1)\n",
        "X"
      ]
    },
    {
      "cell_type": "code",
      "execution_count": 34,
      "id": "4e26229c",
      "metadata": {
        "execution": {
          "iopub.execute_input": "2022-01-22T15:23:43.852081Z",
          "iopub.status.busy": "2022-01-22T15:23:43.851360Z",
          "iopub.status.idle": "2022-01-22T15:23:43.898674Z",
          "shell.execute_reply": "2022-01-22T15:23:43.899184Z",
          "shell.execute_reply.started": "2022-01-22T15:07:53.617577Z"
        },
        "papermill": {
          "duration": 0.080024,
          "end_time": "2022-01-22T15:23:43.899384",
          "exception": false,
          "start_time": "2022-01-22T15:23:43.819360",
          "status": "completed"
        },
        "tags": [],
        "id": "4e26229c"
      },
      "outputs": [],
      "source": [
        "from sklearn.model_selection import train_test_split"
      ]
    },
    {
      "cell_type": "code",
      "execution_count": 35,
      "id": "34e9622d",
      "metadata": {
        "execution": {
          "iopub.execute_input": "2022-01-22T15:23:43.957726Z",
          "iopub.status.busy": "2022-01-22T15:23:43.957000Z",
          "iopub.status.idle": "2022-01-22T15:23:43.959891Z",
          "shell.execute_reply": "2022-01-22T15:23:43.960506Z",
          "shell.execute_reply.started": "2022-01-22T15:08:33.351734Z"
        },
        "papermill": {
          "duration": 0.035461,
          "end_time": "2022-01-22T15:23:43.960676",
          "exception": false,
          "start_time": "2022-01-22T15:23:43.925215",
          "status": "completed"
        },
        "tags": [],
        "id": "34e9622d"
      },
      "outputs": [],
      "source": [
        "# Perform 80/20( test_ratio )Data split\n",
        "X_train, X_test, Y_train, Y_test = train_test_split(X, Y, test_size=0.2)"
      ]
    },
    {
      "cell_type": "code",
      "execution_count": 36,
      "id": "f3dba15b",
      "metadata": {
        "execution": {
          "iopub.execute_input": "2022-01-22T15:23:44.016473Z",
          "iopub.status.busy": "2022-01-22T15:23:44.015795Z",
          "iopub.status.idle": "2022-01-22T15:23:44.020795Z",
          "shell.execute_reply": "2022-01-22T15:23:44.021395Z",
          "shell.execute_reply.started": "2022-01-22T15:11:49.848778Z"
        },
        "papermill": {
          "duration": 0.034064,
          "end_time": "2022-01-22T15:23:44.021570",
          "exception": false,
          "start_time": "2022-01-22T15:23:43.987506",
          "status": "completed"
        },
        "tags": [],
        "colab": {
          "base_uri": "https://localhost:8080/"
        },
        "id": "f3dba15b",
        "outputId": "5da3a155-0cf0-4143-d6e2-ecc032851e97"
      },
      "outputs": [
        {
          "output_type": "execute_result",
          "data": {
            "text/plain": [
              "((102, 13), (102,))"
            ]
          },
          "metadata": {},
          "execution_count": 36
        }
      ],
      "source": [
        "X_test.shape , Y_test.shape"
      ]
    },
    {
      "cell_type": "code",
      "execution_count": 37,
      "id": "cef8bab2",
      "metadata": {
        "execution": {
          "iopub.execute_input": "2022-01-22T15:23:44.076545Z",
          "iopub.status.busy": "2022-01-22T15:23:44.075907Z",
          "iopub.status.idle": "2022-01-22T15:23:44.080783Z",
          "shell.execute_reply": "2022-01-22T15:23:44.081365Z",
          "shell.execute_reply.started": "2022-01-22T15:12:44.469303Z"
        },
        "papermill": {
          "duration": 0.033902,
          "end_time": "2022-01-22T15:23:44.081531",
          "exception": false,
          "start_time": "2022-01-22T15:23:44.047629",
          "status": "completed"
        },
        "tags": [],
        "colab": {
          "base_uri": "https://localhost:8080/"
        },
        "id": "cef8bab2",
        "outputId": "b68a9437-0abb-4ed3-bdbe-c544e9b92c31"
      },
      "outputs": [
        {
          "output_type": "execute_result",
          "data": {
            "text/plain": [
              "((404, 13), (404,))"
            ]
          },
          "metadata": {},
          "execution_count": 37
        }
      ],
      "source": [
        "X_train.shape , Y_train.shape"
      ]
    },
    {
      "cell_type": "code",
      "execution_count": 38,
      "id": "9ea2517b",
      "metadata": {
        "execution": {
          "iopub.execute_input": "2022-01-22T15:23:44.137608Z",
          "iopub.status.busy": "2022-01-22T15:23:44.136951Z",
          "iopub.status.idle": "2022-01-22T15:23:44.217259Z",
          "shell.execute_reply": "2022-01-22T15:23:44.217869Z",
          "shell.execute_reply.started": "2022-01-22T15:15:29.716516Z"
        },
        "papermill": {
          "duration": 0.109766,
          "end_time": "2022-01-22T15:23:44.218045",
          "exception": false,
          "start_time": "2022-01-22T15:23:44.108279",
          "status": "completed"
        },
        "tags": [],
        "id": "9ea2517b"
      },
      "outputs": [],
      "source": [
        "from sklearn import linear_model\n",
        "from sklearn.metrics import mean_squared_error, r2_score"
      ]
    },
    {
      "cell_type": "code",
      "execution_count": 39,
      "id": "0a8e06e2",
      "metadata": {
        "execution": {
          "iopub.execute_input": "2022-01-22T15:23:44.273673Z",
          "iopub.status.busy": "2022-01-22T15:23:44.273019Z",
          "iopub.status.idle": "2022-01-22T15:23:44.277003Z",
          "shell.execute_reply": "2022-01-22T15:23:44.277568Z",
          "shell.execute_reply.started": "2022-01-22T15:16:28.877058Z"
        },
        "papermill": {
          "duration": 0.033323,
          "end_time": "2022-01-22T15:23:44.277731",
          "exception": false,
          "start_time": "2022-01-22T15:23:44.244408",
          "status": "completed"
        },
        "tags": [],
        "id": "0a8e06e2"
      },
      "outputs": [],
      "source": [
        "model = linear_model.LinearRegression()"
      ]
    },
    {
      "cell_type": "code",
      "execution_count": 40,
      "id": "0a42e669",
      "metadata": {
        "execution": {
          "iopub.execute_input": "2022-01-22T15:23:44.336096Z",
          "iopub.status.busy": "2022-01-22T15:23:44.335405Z",
          "iopub.status.idle": "2022-01-22T15:23:44.356391Z",
          "shell.execute_reply": "2022-01-22T15:23:44.356966Z",
          "shell.execute_reply.started": "2022-01-22T15:16:45.175917Z"
        },
        "papermill": {
          "duration": 0.052703,
          "end_time": "2022-01-22T15:23:44.357128",
          "exception": false,
          "start_time": "2022-01-22T15:23:44.304425",
          "status": "completed"
        },
        "tags": [],
        "colab": {
          "base_uri": "https://localhost:8080/"
        },
        "id": "0a42e669",
        "outputId": "65b1667a-3b69-4cc6-f4e4-23d6bf7c2700"
      },
      "outputs": [
        {
          "output_type": "execute_result",
          "data": {
            "text/plain": [
              "LinearRegression()"
            ]
          },
          "metadata": {},
          "execution_count": 40
        }
      ],
      "source": [
        "model.fit(X_train, Y_train)"
      ]
    },
    {
      "cell_type": "code",
      "execution_count": 41,
      "id": "864c480e",
      "metadata": {
        "execution": {
          "iopub.execute_input": "2022-01-22T15:23:44.419431Z",
          "iopub.status.busy": "2022-01-22T15:23:44.418705Z",
          "iopub.status.idle": "2022-01-22T15:23:44.421355Z",
          "shell.execute_reply": "2022-01-22T15:23:44.421842Z",
          "shell.execute_reply.started": "2022-01-22T15:17:08.870814Z"
        },
        "papermill": {
          "duration": 0.038279,
          "end_time": "2022-01-22T15:23:44.422006",
          "exception": false,
          "start_time": "2022-01-22T15:23:44.383727",
          "status": "completed"
        },
        "tags": [],
        "colab": {
          "base_uri": "https://localhost:8080/"
        },
        "id": "864c480e",
        "outputId": "9141298f-e985-4467-8cdb-650a1682b601"
      },
      "outputs": [
        {
          "output_type": "execute_result",
          "data": {
            "text/plain": [
              "array([24.09108608, 18.8735375 , 20.86704672, 12.6883645 , 42.87396465,\n",
              "       24.47978618, 27.72322264, 13.44928166, 35.83689095, 20.88215607,\n",
              "       40.56755783, 19.03397318, 21.16536128, 32.56233683, 14.9999653 ,\n",
              "       16.29851163, 32.73676549, 16.47341575, 24.84981504,  9.81828023,\n",
              "       20.95057189, 24.46234013, 23.83041601, 22.3584204 , 38.00573604,\n",
              "       39.2322304 , 31.83252033, 22.82268232, 25.56381744, 19.25087556,\n",
              "       14.759834  , 19.22718385, 12.02317194, 22.88541902, 21.79639408,\n",
              "       14.11220576, 16.45435515, 19.49691181, 12.55331208, 15.20621859,\n",
              "       15.48683602, 20.41214831, 23.72350922, 22.7361372 , 20.32849987,\n",
              "       10.42848917,  6.66519437, 35.54704153, 21.45833275, 15.54400157,\n",
              "       27.27568154, 31.67508475, 25.10945833, 24.86680989, 20.32772976,\n",
              "       31.136343  , 25.37121452, 17.67613106, 22.39582674, 10.72184931,\n",
              "       22.76114815, 26.04381782, 20.39900419, 17.38876875, 28.2753308 ,\n",
              "       24.10729401, 30.57773997, 18.62540633, 33.49926876, 21.54944431,\n",
              "       37.12395674, 34.22141784, 17.63547237, 19.87085415, 23.08298111,\n",
              "       30.47352172, 30.18100297, 19.1053836 , 32.72052216, 21.44886724,\n",
              "       21.49814319, 15.11731011,  8.6930412 , 19.93674943, 25.25594934,\n",
              "       20.89336547, 34.04179774, 28.88547446, 31.55853499, 24.74471193,\n",
              "       14.16629446, 17.98336363, 12.60636685, 19.41584621, 18.30673031,\n",
              "       20.43100089, 21.58668572, 20.48419114, 11.46467733, 28.75896302,\n",
              "       25.18329805, 24.95405325])"
            ]
          },
          "metadata": {},
          "execution_count": 41
        }
      ],
      "source": [
        "Y_pred = model.predict(X_test)\n",
        "Y_pred"
      ]
    },
    {
      "cell_type": "code",
      "execution_count": 41,
      "id": "88a7df46",
      "metadata": {
        "papermill": {
          "duration": 0.026871,
          "end_time": "2022-01-22T15:23:44.476079",
          "exception": false,
          "start_time": "2022-01-22T15:23:44.449208",
          "status": "completed"
        },
        "tags": [],
        "id": "88a7df46"
      },
      "outputs": [],
      "source": [
        ""
      ]
    },
    {
      "cell_type": "code",
      "execution_count": 41,
      "id": "31a062d6",
      "metadata": {
        "papermill": {
          "duration": 0.026379,
          "end_time": "2022-01-22T15:23:44.529625",
          "exception": false,
          "start_time": "2022-01-22T15:23:44.503246",
          "status": "completed"
        },
        "tags": [],
        "id": "31a062d6"
      },
      "outputs": [],
      "source": [
        ""
      ]
    },
    {
      "cell_type": "code",
      "execution_count": 41,
      "id": "bf93b0b6",
      "metadata": {
        "papermill": {
          "duration": 0.026391,
          "end_time": "2022-01-22T15:23:44.583059",
          "exception": false,
          "start_time": "2022-01-22T15:23:44.556668",
          "status": "completed"
        },
        "tags": [],
        "id": "bf93b0b6"
      },
      "outputs": [],
      "source": [
        ""
      ]
    },
    {
      "cell_type": "code",
      "execution_count": 41,
      "id": "a3a9657f",
      "metadata": {
        "papermill": {
          "duration": 0.026473,
          "end_time": "2022-01-22T15:23:44.636291",
          "exception": false,
          "start_time": "2022-01-22T15:23:44.609818",
          "status": "completed"
        },
        "tags": [],
        "id": "a3a9657f"
      },
      "outputs": [],
      "source": [
        ""
      ]
    }
  ],
  "metadata": {
    "kernelspec": {
      "display_name": "Python 3",
      "language": "python",
      "name": "python3"
    },
    "language_info": {
      "codemirror_mode": {
        "name": "ipython",
        "version": 3
      },
      "file_extension": ".py",
      "mimetype": "text/x-python",
      "name": "python",
      "nbconvert_exporter": "python",
      "pygments_lexer": "ipython3",
      "version": "3.7.12"
    },
    "papermill": {
      "default_parameters": {},
      "duration": 14.492334,
      "end_time": "2022-01-22T15:23:45.374133",
      "environment_variables": {},
      "exception": null,
      "input_path": "__notebook__.ipynb",
      "output_path": "__notebook__.ipynb",
      "parameters": {},
      "start_time": "2022-01-22T15:23:30.881799",
      "version": "2.3.3"
    },
    "colab": {
      "name": "linear-regression-model.ipynb",
      "provenance": []
    }
  },
  "nbformat": 4,
  "nbformat_minor": 5
}