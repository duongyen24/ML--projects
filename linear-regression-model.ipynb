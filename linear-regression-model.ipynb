{
 "cells": [
  {
   "cell_type": "code",
   "execution_count": 1,
   "id": "7aa3486c",
   "metadata": {
    "_cell_guid": "b1076dfc-b9ad-4769-8c92-a6c4dae69d19",
    "_uuid": "8f2839f25d086af736a60e9eeb907d3b93b6e0e5",
    "execution": {
     "iopub.execute_input": "2022-01-22T15:23:40.516319Z",
     "iopub.status.busy": "2022-01-22T15:23:40.514509Z",
     "iopub.status.idle": "2022-01-22T15:23:40.526271Z",
     "shell.execute_reply": "2022-01-22T15:23:40.526934Z",
     "shell.execute_reply.started": "2022-01-22T14:53:53.606824Z"
    },
    "papermill": {
     "duration": 0.043294,
     "end_time": "2022-01-22T15:23:40.527227",
     "exception": false,
     "start_time": "2022-01-22T15:23:40.483933",
     "status": "completed"
    },
    "tags": []
   },
   "outputs": [],
   "source": [
    "# This Python 3 environment comes with many helpful analytics libraries installed\n",
    "# It is defined by the kaggle/python Docker image: https://github.com/kaggle/docker-python\n",
    "# For example, here's several helpful packages to load\n",
    "\n",
    "import numpy as np # linear algebra\n",
    "import pandas as pd # data processing, CSV file I/O (e.g. pd.read_csv)\n",
    "\n",
    "# Input data files are available in the read-only \"../input/\" directory\n",
    "# For example, running this (by clicking run or pressing Shift+Enter) will list all files under the input directory\n",
    "\n",
    "import os\n",
    "for dirname, _, filenames in os.walk('/kaggle/input'):\n",
    "    for filename in filenames:\n",
    "        print(os.path.join(dirname, filename))\n",
    "\n",
    "# You can write up to 20GB to the current directory (/kaggle/working/) that gets preserved as output when you create a version using \"Save & Run All\" \n",
    "# You can also write temporary files to /kaggle/temp/, but they won't be saved outside of the current session"
   ]
  },
  {
   "cell_type": "code",
   "execution_count": 2,
   "id": "fb37bf9c",
   "metadata": {
    "execution": {
     "iopub.execute_input": "2022-01-22T15:23:40.573579Z",
     "iopub.status.busy": "2022-01-22T15:23:40.572780Z",
     "iopub.status.idle": "2022-01-22T15:23:41.683521Z",
     "shell.execute_reply": "2022-01-22T15:23:41.682919Z",
     "shell.execute_reply.started": "2022-01-22T14:56:51.703583Z"
    },
    "papermill": {
     "duration": 1.135432,
     "end_time": "2022-01-22T15:23:41.683672",
     "exception": false,
     "start_time": "2022-01-22T15:23:40.548240",
     "status": "completed"
    },
    "tags": []
   },
   "outputs": [],
   "source": [
    "from sklearn import datasets"
   ]
  },
  {
   "cell_type": "code",
   "execution_count": 3,
   "id": "65df4b24",
   "metadata": {
    "execution": {
     "iopub.execute_input": "2022-01-22T15:23:41.727798Z",
     "iopub.status.busy": "2022-01-22T15:23:41.726841Z",
     "iopub.status.idle": "2022-01-22T15:23:41.747786Z",
     "shell.execute_reply": "2022-01-22T15:23:41.748354Z",
     "shell.execute_reply.started": "2022-01-22T14:57:05.782845Z"
    },
    "papermill": {
     "duration": 0.044811,
     "end_time": "2022-01-22T15:23:41.748538",
     "exception": false,
     "start_time": "2022-01-22T15:23:41.703727",
     "status": "completed"
    },
    "tags": []
   },
   "outputs": [],
   "source": [
    "diabetes = datasets.load_diabetes()"
   ]
  },
  {
   "cell_type": "code",
   "execution_count": 4,
   "id": "a4d3e891",
   "metadata": {
    "execution": {
     "iopub.execute_input": "2022-01-22T15:23:41.792415Z",
     "iopub.status.busy": "2022-01-22T15:23:41.791458Z",
     "iopub.status.idle": "2022-01-22T15:23:41.807478Z",
     "shell.execute_reply": "2022-01-22T15:23:41.807988Z",
     "shell.execute_reply.started": "2022-01-22T14:57:20.987830Z"
    },
    "papermill": {
     "duration": 0.039335,
     "end_time": "2022-01-22T15:23:41.808148",
     "exception": false,
     "start_time": "2022-01-22T15:23:41.768813",
     "status": "completed"
    },
    "tags": []
   },
   "outputs": [
    {
     "data": {
      "text/plain": [
       "{'data': array([[ 0.03807591,  0.05068012,  0.06169621, ..., -0.00259226,\n",
       "          0.01990842, -0.01764613],\n",
       "        [-0.00188202, -0.04464164, -0.05147406, ..., -0.03949338,\n",
       "         -0.06832974, -0.09220405],\n",
       "        [ 0.08529891,  0.05068012,  0.04445121, ..., -0.00259226,\n",
       "          0.00286377, -0.02593034],\n",
       "        ...,\n",
       "        [ 0.04170844,  0.05068012, -0.01590626, ..., -0.01107952,\n",
       "         -0.04687948,  0.01549073],\n",
       "        [-0.04547248, -0.04464164,  0.03906215, ...,  0.02655962,\n",
       "          0.04452837, -0.02593034],\n",
       "        [-0.04547248, -0.04464164, -0.0730303 , ..., -0.03949338,\n",
       "         -0.00421986,  0.00306441]]),\n",
       " 'target': array([151.,  75., 141., 206., 135.,  97., 138.,  63., 110., 310., 101.,\n",
       "         69., 179., 185., 118., 171., 166., 144.,  97., 168.,  68.,  49.,\n",
       "         68., 245., 184., 202., 137.,  85., 131., 283., 129.,  59., 341.,\n",
       "         87.,  65., 102., 265., 276., 252.,  90., 100.,  55.,  61.,  92.,\n",
       "        259.,  53., 190., 142.,  75., 142., 155., 225.,  59., 104., 182.,\n",
       "        128.,  52.,  37., 170., 170.,  61., 144.,  52., 128.,  71., 163.,\n",
       "        150.,  97., 160., 178.,  48., 270., 202., 111.,  85.,  42., 170.,\n",
       "        200., 252., 113., 143.,  51.,  52., 210.,  65., 141.,  55., 134.,\n",
       "         42., 111.,  98., 164.,  48.,  96.,  90., 162., 150., 279.,  92.,\n",
       "         83., 128., 102., 302., 198.,  95.,  53., 134., 144., 232.,  81.,\n",
       "        104.,  59., 246., 297., 258., 229., 275., 281., 179., 200., 200.,\n",
       "        173., 180.,  84., 121., 161.,  99., 109., 115., 268., 274., 158.,\n",
       "        107.,  83., 103., 272.,  85., 280., 336., 281., 118., 317., 235.,\n",
       "         60., 174., 259., 178., 128.,  96., 126., 288.,  88., 292.,  71.,\n",
       "        197., 186.,  25.,  84.,  96., 195.,  53., 217., 172., 131., 214.,\n",
       "         59.,  70., 220., 268., 152.,  47.,  74., 295., 101., 151., 127.,\n",
       "        237., 225.,  81., 151., 107.,  64., 138., 185., 265., 101., 137.,\n",
       "        143., 141.,  79., 292., 178.,  91., 116.,  86., 122.,  72., 129.,\n",
       "        142.,  90., 158.,  39., 196., 222., 277.,  99., 196., 202., 155.,\n",
       "         77., 191.,  70.,  73.,  49.,  65., 263., 248., 296., 214., 185.,\n",
       "         78.,  93., 252., 150.,  77., 208.,  77., 108., 160.,  53., 220.,\n",
       "        154., 259.,  90., 246., 124.,  67.,  72., 257., 262., 275., 177.,\n",
       "         71.,  47., 187., 125.,  78.,  51., 258., 215., 303., 243.,  91.,\n",
       "        150., 310., 153., 346.,  63.,  89.,  50.,  39., 103., 308., 116.,\n",
       "        145.,  74.,  45., 115., 264.,  87., 202., 127., 182., 241.,  66.,\n",
       "         94., 283.,  64., 102., 200., 265.,  94., 230., 181., 156., 233.,\n",
       "         60., 219.,  80.,  68., 332., 248.,  84., 200.,  55.,  85.,  89.,\n",
       "         31., 129.,  83., 275.,  65., 198., 236., 253., 124.,  44., 172.,\n",
       "        114., 142., 109., 180., 144., 163., 147.,  97., 220., 190., 109.,\n",
       "        191., 122., 230., 242., 248., 249., 192., 131., 237.,  78., 135.,\n",
       "        244., 199., 270., 164.,  72.,  96., 306.,  91., 214.,  95., 216.,\n",
       "        263., 178., 113., 200., 139., 139.,  88., 148.,  88., 243.,  71.,\n",
       "         77., 109., 272.,  60.,  54., 221.,  90., 311., 281., 182., 321.,\n",
       "         58., 262., 206., 233., 242., 123., 167.,  63., 197.,  71., 168.,\n",
       "        140., 217., 121., 235., 245.,  40.,  52., 104., 132.,  88.,  69.,\n",
       "        219.,  72., 201., 110.,  51., 277.,  63., 118.,  69., 273., 258.,\n",
       "         43., 198., 242., 232., 175.,  93., 168., 275., 293., 281.,  72.,\n",
       "        140., 189., 181., 209., 136., 261., 113., 131., 174., 257.,  55.,\n",
       "         84.,  42., 146., 212., 233.,  91., 111., 152., 120.,  67., 310.,\n",
       "         94., 183.,  66., 173.,  72.,  49.,  64.,  48., 178., 104., 132.,\n",
       "        220.,  57.]),\n",
       " 'frame': None,\n",
       " 'DESCR': '.. _diabetes_dataset:\\n\\nDiabetes dataset\\n----------------\\n\\nTen baseline variables, age, sex, body mass index, average blood\\npressure, and six blood serum measurements were obtained for each of n =\\n442 diabetes patients, as well as the response of interest, a\\nquantitative measure of disease progression one year after baseline.\\n\\n**Data Set Characteristics:**\\n\\n  :Number of Instances: 442\\n\\n  :Number of Attributes: First 10 columns are numeric predictive values\\n\\n  :Target: Column 11 is a quantitative measure of disease progression one year after baseline\\n\\n  :Attribute Information:\\n      - age     age in years\\n      - sex\\n      - bmi     body mass index\\n      - bp      average blood pressure\\n      - s1      tc, T-Cells (a type of white blood cells)\\n      - s2      ldl, low-density lipoproteins\\n      - s3      hdl, high-density lipoproteins\\n      - s4      tch, thyroid stimulating hormone\\n      - s5      ltg, lamotrigine\\n      - s6      glu, blood sugar level\\n\\nNote: Each of these 10 feature variables have been mean centered and scaled by the standard deviation times `n_samples` (i.e. the sum of squares of each column totals 1).\\n\\nSource URL:\\nhttps://www4.stat.ncsu.edu/~boos/var.select/diabetes.html\\n\\nFor more information see:\\nBradley Efron, Trevor Hastie, Iain Johnstone and Robert Tibshirani (2004) \"Least Angle Regression,\" Annals of Statistics (with discussion), 407-499.\\n(https://web.stanford.edu/~hastie/Papers/LARS/LeastAngle_2002.pdf)',\n",
       " 'feature_names': ['age',\n",
       "  'sex',\n",
       "  'bmi',\n",
       "  'bp',\n",
       "  's1',\n",
       "  's2',\n",
       "  's3',\n",
       "  's4',\n",
       "  's5',\n",
       "  's6'],\n",
       " 'data_filename': '/opt/conda/lib/python3.7/site-packages/sklearn/datasets/data/diabetes_data.csv.gz',\n",
       " 'target_filename': '/opt/conda/lib/python3.7/site-packages/sklearn/datasets/data/diabetes_target.csv.gz'}"
      ]
     },
     "execution_count": 4,
     "metadata": {},
     "output_type": "execute_result"
    }
   ],
   "source": [
    "diabetes"
   ]
  },
  {
   "cell_type": "code",
   "execution_count": 5,
   "id": "5c34f679",
   "metadata": {
    "execution": {
     "iopub.execute_input": "2022-01-22T15:23:41.852783Z",
     "iopub.status.busy": "2022-01-22T15:23:41.851816Z",
     "iopub.status.idle": "2022-01-22T15:23:41.856881Z",
     "shell.execute_reply": "2022-01-22T15:23:41.857376Z",
     "shell.execute_reply.started": "2022-01-22T14:57:43.629687Z"
    },
    "papermill": {
     "duration": 0.028686,
     "end_time": "2022-01-22T15:23:41.857537",
     "exception": false,
     "start_time": "2022-01-22T15:23:41.828851",
     "status": "completed"
    },
    "tags": []
   },
   "outputs": [
    {
     "name": "stdout",
     "output_type": "stream",
     "text": [
      ".. _diabetes_dataset:\n",
      "\n",
      "Diabetes dataset\n",
      "----------------\n",
      "\n",
      "Ten baseline variables, age, sex, body mass index, average blood\n",
      "pressure, and six blood serum measurements were obtained for each of n =\n",
      "442 diabetes patients, as well as the response of interest, a\n",
      "quantitative measure of disease progression one year after baseline.\n",
      "\n",
      "**Data Set Characteristics:**\n",
      "\n",
      "  :Number of Instances: 442\n",
      "\n",
      "  :Number of Attributes: First 10 columns are numeric predictive values\n",
      "\n",
      "  :Target: Column 11 is a quantitative measure of disease progression one year after baseline\n",
      "\n",
      "  :Attribute Information:\n",
      "      - age     age in years\n",
      "      - sex\n",
      "      - bmi     body mass index\n",
      "      - bp      average blood pressure\n",
      "      - s1      tc, T-Cells (a type of white blood cells)\n",
      "      - s2      ldl, low-density lipoproteins\n",
      "      - s3      hdl, high-density lipoproteins\n",
      "      - s4      tch, thyroid stimulating hormone\n",
      "      - s5      ltg, lamotrigine\n",
      "      - s6      glu, blood sugar level\n",
      "\n",
      "Note: Each of these 10 feature variables have been mean centered and scaled by the standard deviation times `n_samples` (i.e. the sum of squares of each column totals 1).\n",
      "\n",
      "Source URL:\n",
      "https://www4.stat.ncsu.edu/~boos/var.select/diabetes.html\n",
      "\n",
      "For more information see:\n",
      "Bradley Efron, Trevor Hastie, Iain Johnstone and Robert Tibshirani (2004) \"Least Angle Regression,\" Annals of Statistics (with discussion), 407-499.\n",
      "(https://web.stanford.edu/~hastie/Papers/LARS/LeastAngle_2002.pdf)\n"
     ]
    }
   ],
   "source": [
    "print(diabetes.DESCR)"
   ]
  },
  {
   "cell_type": "code",
   "execution_count": 6,
   "id": "2e911c7f",
   "metadata": {
    "execution": {
     "iopub.execute_input": "2022-01-22T15:23:41.904671Z",
     "iopub.status.busy": "2022-01-22T15:23:41.903639Z",
     "iopub.status.idle": "2022-01-22T15:23:41.907015Z",
     "shell.execute_reply": "2022-01-22T15:23:41.906518Z",
     "shell.execute_reply.started": "2022-01-22T15:00:53.940579Z"
    },
    "papermill": {
     "duration": 0.029071,
     "end_time": "2022-01-22T15:23:41.907153",
     "exception": false,
     "start_time": "2022-01-22T15:23:41.878082",
     "status": "completed"
    },
    "tags": []
   },
   "outputs": [
    {
     "name": "stdout",
     "output_type": "stream",
     "text": [
      "['age', 'sex', 'bmi', 'bp', 's1', 's2', 's3', 's4', 's5', 's6']\n"
     ]
    }
   ],
   "source": [
    "print(diabetes.feature_names)"
   ]
  },
  {
   "cell_type": "code",
   "execution_count": 7,
   "id": "5f5d59bc",
   "metadata": {
    "execution": {
     "iopub.execute_input": "2022-01-22T15:23:41.956949Z",
     "iopub.status.busy": "2022-01-22T15:23:41.956341Z",
     "iopub.status.idle": "2022-01-22T15:23:41.958350Z",
     "shell.execute_reply": "2022-01-22T15:23:41.958898Z",
     "shell.execute_reply.started": "2022-01-22T15:01:19.802179Z"
    },
    "papermill": {
     "duration": 0.031007,
     "end_time": "2022-01-22T15:23:41.959062",
     "exception": false,
     "start_time": "2022-01-22T15:23:41.928055",
     "status": "completed"
    },
    "tags": []
   },
   "outputs": [],
   "source": [
    "X = diabetes.data\n",
    "Y = diabetes.target"
   ]
  },
  {
   "cell_type": "code",
   "execution_count": 8,
   "id": "ccac2d18",
   "metadata": {
    "execution": {
     "iopub.execute_input": "2022-01-22T15:23:42.003451Z",
     "iopub.status.busy": "2022-01-22T15:23:42.002846Z",
     "iopub.status.idle": "2022-01-22T15:23:42.007501Z",
     "shell.execute_reply": "2022-01-22T15:23:42.008065Z",
     "shell.execute_reply.started": "2022-01-22T15:01:31.721431Z"
    },
    "papermill": {
     "duration": 0.028395,
     "end_time": "2022-01-22T15:23:42.008220",
     "exception": false,
     "start_time": "2022-01-22T15:23:41.979825",
     "status": "completed"
    },
    "tags": []
   },
   "outputs": [
    {
     "data": {
      "text/plain": [
       "((442, 10), (442,))"
      ]
     },
     "execution_count": 8,
     "metadata": {},
     "output_type": "execute_result"
    }
   ],
   "source": [
    "X.shape, Y.shape"
   ]
  },
  {
   "cell_type": "code",
   "execution_count": 9,
   "id": "146a708c",
   "metadata": {
    "execution": {
     "iopub.execute_input": "2022-01-22T15:23:42.054188Z",
     "iopub.status.busy": "2022-01-22T15:23:42.053596Z",
     "iopub.status.idle": "2022-01-22T15:23:42.056289Z",
     "shell.execute_reply": "2022-01-22T15:23:42.056867Z",
     "shell.execute_reply.started": "2022-01-22T15:04:34.480688Z"
    },
    "papermill": {
     "duration": 0.027454,
     "end_time": "2022-01-22T15:23:42.057017",
     "exception": false,
     "start_time": "2022-01-22T15:23:42.029563",
     "status": "completed"
    },
    "tags": []
   },
   "outputs": [],
   "source": [
    "import pandas as pd\n"
   ]
  },
  {
   "cell_type": "code",
   "execution_count": 10,
   "id": "409832d6",
   "metadata": {
    "execution": {
     "iopub.execute_input": "2022-01-22T15:23:42.102640Z",
     "iopub.status.busy": "2022-01-22T15:23:42.102009Z",
     "iopub.status.idle": "2022-01-22T15:23:43.543601Z",
     "shell.execute_reply": "2022-01-22T15:23:43.542959Z",
     "shell.execute_reply.started": "2022-01-22T15:05:29.897755Z"
    },
    "papermill": {
     "duration": 1.465408,
     "end_time": "2022-01-22T15:23:43.543753",
     "exception": false,
     "start_time": "2022-01-22T15:23:42.078345",
     "status": "completed"
    },
    "tags": []
   },
   "outputs": [
    {
     "name": "stdout",
     "output_type": "stream",
     "text": [
      "--2022-01-22 15:23:42--  https://github.com/dataprofessor/data/raw/master/BostonHousing.csv\r\n",
      "Resolving github.com (github.com)... 140.82.112.3\r\n",
      "Connecting to github.com (github.com)|140.82.112.3|:443... connected.\r\n",
      "HTTP request sent, awaiting response... 302 Found\r\n",
      "Location: https://raw.githubusercontent.com/dataprofessor/data/master/BostonHousing.csv [following]\r\n",
      "--2022-01-22 15:23:43--  https://raw.githubusercontent.com/dataprofessor/data/master/BostonHousing.csv\r\n",
      "Resolving raw.githubusercontent.com (raw.githubusercontent.com)... 185.199.111.133, 185.199.109.133, 185.199.108.133, ...\r\n",
      "Connecting to raw.githubusercontent.com (raw.githubusercontent.com)|185.199.111.133|:443... connected.\r\n",
      "HTTP request sent, awaiting response... 200 OK\r\n",
      "Length: 36242 (35K) [text/plain]\r\n",
      "Saving to: ‘BostonHousing.csv’\r\n",
      "\r\n",
      "BostonHousing.csv   100%[===================>]  35.39K  --.-KB/s    in 0.002s  \r\n",
      "\r\n",
      "2022-01-22 15:23:43 (20.5 MB/s) - ‘BostonHousing.csv’ saved [36242/36242]\r\n",
      "\r\n"
     ]
    }
   ],
   "source": [
    "! wget https://github.com/dataprofessor/data/raw/master/BostonHousing.csv"
   ]
  },
  {
   "cell_type": "code",
   "execution_count": 11,
   "id": "c6de9afa",
   "metadata": {
    "execution": {
     "iopub.execute_input": "2022-01-22T15:23:43.601630Z",
     "iopub.status.busy": "2022-01-22T15:23:43.600929Z",
     "iopub.status.idle": "2022-01-22T15:23:43.646264Z",
     "shell.execute_reply": "2022-01-22T15:23:43.645646Z",
     "shell.execute_reply.started": "2022-01-22T15:05:54.431300Z"
    },
    "papermill": {
     "duration": 0.076494,
     "end_time": "2022-01-22T15:23:43.646449",
     "exception": false,
     "start_time": "2022-01-22T15:23:43.569955",
     "status": "completed"
    },
    "tags": []
   },
   "outputs": [
    {
     "data": {
      "text/html": [
       "<div>\n",
       "<style scoped>\n",
       "    .dataframe tbody tr th:only-of-type {\n",
       "        vertical-align: middle;\n",
       "    }\n",
       "\n",
       "    .dataframe tbody tr th {\n",
       "        vertical-align: top;\n",
       "    }\n",
       "\n",
       "    .dataframe thead th {\n",
       "        text-align: right;\n",
       "    }\n",
       "</style>\n",
       "<table border=\"1\" class=\"dataframe\">\n",
       "  <thead>\n",
       "    <tr style=\"text-align: right;\">\n",
       "      <th></th>\n",
       "      <th>crim</th>\n",
       "      <th>zn</th>\n",
       "      <th>indus</th>\n",
       "      <th>chas</th>\n",
       "      <th>nox</th>\n",
       "      <th>rm</th>\n",
       "      <th>age</th>\n",
       "      <th>dis</th>\n",
       "      <th>rad</th>\n",
       "      <th>tax</th>\n",
       "      <th>ptratio</th>\n",
       "      <th>b</th>\n",
       "      <th>lstat</th>\n",
       "      <th>medv</th>\n",
       "    </tr>\n",
       "  </thead>\n",
       "  <tbody>\n",
       "    <tr>\n",
       "      <th>0</th>\n",
       "      <td>0.00632</td>\n",
       "      <td>18.0</td>\n",
       "      <td>2.31</td>\n",
       "      <td>0</td>\n",
       "      <td>0.538</td>\n",
       "      <td>6.575</td>\n",
       "      <td>65.2</td>\n",
       "      <td>4.0900</td>\n",
       "      <td>1</td>\n",
       "      <td>296</td>\n",
       "      <td>15.3</td>\n",
       "      <td>396.90</td>\n",
       "      <td>4.98</td>\n",
       "      <td>24.0</td>\n",
       "    </tr>\n",
       "    <tr>\n",
       "      <th>1</th>\n",
       "      <td>0.02731</td>\n",
       "      <td>0.0</td>\n",
       "      <td>7.07</td>\n",
       "      <td>0</td>\n",
       "      <td>0.469</td>\n",
       "      <td>6.421</td>\n",
       "      <td>78.9</td>\n",
       "      <td>4.9671</td>\n",
       "      <td>2</td>\n",
       "      <td>242</td>\n",
       "      <td>17.8</td>\n",
       "      <td>396.90</td>\n",
       "      <td>9.14</td>\n",
       "      <td>21.6</td>\n",
       "    </tr>\n",
       "    <tr>\n",
       "      <th>2</th>\n",
       "      <td>0.02729</td>\n",
       "      <td>0.0</td>\n",
       "      <td>7.07</td>\n",
       "      <td>0</td>\n",
       "      <td>0.469</td>\n",
       "      <td>7.185</td>\n",
       "      <td>61.1</td>\n",
       "      <td>4.9671</td>\n",
       "      <td>2</td>\n",
       "      <td>242</td>\n",
       "      <td>17.8</td>\n",
       "      <td>392.83</td>\n",
       "      <td>4.03</td>\n",
       "      <td>34.7</td>\n",
       "    </tr>\n",
       "    <tr>\n",
       "      <th>3</th>\n",
       "      <td>0.03237</td>\n",
       "      <td>0.0</td>\n",
       "      <td>2.18</td>\n",
       "      <td>0</td>\n",
       "      <td>0.458</td>\n",
       "      <td>6.998</td>\n",
       "      <td>45.8</td>\n",
       "      <td>6.0622</td>\n",
       "      <td>3</td>\n",
       "      <td>222</td>\n",
       "      <td>18.7</td>\n",
       "      <td>394.63</td>\n",
       "      <td>2.94</td>\n",
       "      <td>33.4</td>\n",
       "    </tr>\n",
       "    <tr>\n",
       "      <th>4</th>\n",
       "      <td>0.06905</td>\n",
       "      <td>0.0</td>\n",
       "      <td>2.18</td>\n",
       "      <td>0</td>\n",
       "      <td>0.458</td>\n",
       "      <td>7.147</td>\n",
       "      <td>54.2</td>\n",
       "      <td>6.0622</td>\n",
       "      <td>3</td>\n",
       "      <td>222</td>\n",
       "      <td>18.7</td>\n",
       "      <td>396.90</td>\n",
       "      <td>5.33</td>\n",
       "      <td>36.2</td>\n",
       "    </tr>\n",
       "    <tr>\n",
       "      <th>...</th>\n",
       "      <td>...</td>\n",
       "      <td>...</td>\n",
       "      <td>...</td>\n",
       "      <td>...</td>\n",
       "      <td>...</td>\n",
       "      <td>...</td>\n",
       "      <td>...</td>\n",
       "      <td>...</td>\n",
       "      <td>...</td>\n",
       "      <td>...</td>\n",
       "      <td>...</td>\n",
       "      <td>...</td>\n",
       "      <td>...</td>\n",
       "      <td>...</td>\n",
       "    </tr>\n",
       "    <tr>\n",
       "      <th>501</th>\n",
       "      <td>0.06263</td>\n",
       "      <td>0.0</td>\n",
       "      <td>11.93</td>\n",
       "      <td>0</td>\n",
       "      <td>0.573</td>\n",
       "      <td>6.593</td>\n",
       "      <td>69.1</td>\n",
       "      <td>2.4786</td>\n",
       "      <td>1</td>\n",
       "      <td>273</td>\n",
       "      <td>21.0</td>\n",
       "      <td>391.99</td>\n",
       "      <td>9.67</td>\n",
       "      <td>22.4</td>\n",
       "    </tr>\n",
       "    <tr>\n",
       "      <th>502</th>\n",
       "      <td>0.04527</td>\n",
       "      <td>0.0</td>\n",
       "      <td>11.93</td>\n",
       "      <td>0</td>\n",
       "      <td>0.573</td>\n",
       "      <td>6.120</td>\n",
       "      <td>76.7</td>\n",
       "      <td>2.2875</td>\n",
       "      <td>1</td>\n",
       "      <td>273</td>\n",
       "      <td>21.0</td>\n",
       "      <td>396.90</td>\n",
       "      <td>9.08</td>\n",
       "      <td>20.6</td>\n",
       "    </tr>\n",
       "    <tr>\n",
       "      <th>503</th>\n",
       "      <td>0.06076</td>\n",
       "      <td>0.0</td>\n",
       "      <td>11.93</td>\n",
       "      <td>0</td>\n",
       "      <td>0.573</td>\n",
       "      <td>6.976</td>\n",
       "      <td>91.0</td>\n",
       "      <td>2.1675</td>\n",
       "      <td>1</td>\n",
       "      <td>273</td>\n",
       "      <td>21.0</td>\n",
       "      <td>396.90</td>\n",
       "      <td>5.64</td>\n",
       "      <td>23.9</td>\n",
       "    </tr>\n",
       "    <tr>\n",
       "      <th>504</th>\n",
       "      <td>0.10959</td>\n",
       "      <td>0.0</td>\n",
       "      <td>11.93</td>\n",
       "      <td>0</td>\n",
       "      <td>0.573</td>\n",
       "      <td>6.794</td>\n",
       "      <td>89.3</td>\n",
       "      <td>2.3889</td>\n",
       "      <td>1</td>\n",
       "      <td>273</td>\n",
       "      <td>21.0</td>\n",
       "      <td>393.45</td>\n",
       "      <td>6.48</td>\n",
       "      <td>22.0</td>\n",
       "    </tr>\n",
       "    <tr>\n",
       "      <th>505</th>\n",
       "      <td>0.04741</td>\n",
       "      <td>0.0</td>\n",
       "      <td>11.93</td>\n",
       "      <td>0</td>\n",
       "      <td>0.573</td>\n",
       "      <td>6.030</td>\n",
       "      <td>80.8</td>\n",
       "      <td>2.5050</td>\n",
       "      <td>1</td>\n",
       "      <td>273</td>\n",
       "      <td>21.0</td>\n",
       "      <td>396.90</td>\n",
       "      <td>7.88</td>\n",
       "      <td>11.9</td>\n",
       "    </tr>\n",
       "  </tbody>\n",
       "</table>\n",
       "<p>506 rows × 14 columns</p>\n",
       "</div>"
      ],
      "text/plain": [
       "        crim    zn  indus  chas    nox     rm   age     dis  rad  tax  \\\n",
       "0    0.00632  18.0   2.31     0  0.538  6.575  65.2  4.0900    1  296   \n",
       "1    0.02731   0.0   7.07     0  0.469  6.421  78.9  4.9671    2  242   \n",
       "2    0.02729   0.0   7.07     0  0.469  7.185  61.1  4.9671    2  242   \n",
       "3    0.03237   0.0   2.18     0  0.458  6.998  45.8  6.0622    3  222   \n",
       "4    0.06905   0.0   2.18     0  0.458  7.147  54.2  6.0622    3  222   \n",
       "..       ...   ...    ...   ...    ...    ...   ...     ...  ...  ...   \n",
       "501  0.06263   0.0  11.93     0  0.573  6.593  69.1  2.4786    1  273   \n",
       "502  0.04527   0.0  11.93     0  0.573  6.120  76.7  2.2875    1  273   \n",
       "503  0.06076   0.0  11.93     0  0.573  6.976  91.0  2.1675    1  273   \n",
       "504  0.10959   0.0  11.93     0  0.573  6.794  89.3  2.3889    1  273   \n",
       "505  0.04741   0.0  11.93     0  0.573  6.030  80.8  2.5050    1  273   \n",
       "\n",
       "     ptratio       b  lstat  medv  \n",
       "0       15.3  396.90   4.98  24.0  \n",
       "1       17.8  396.90   9.14  21.6  \n",
       "2       17.8  392.83   4.03  34.7  \n",
       "3       18.7  394.63   2.94  33.4  \n",
       "4       18.7  396.90   5.33  36.2  \n",
       "..       ...     ...    ...   ...  \n",
       "501     21.0  391.99   9.67  22.4  \n",
       "502     21.0  396.90   9.08  20.6  \n",
       "503     21.0  396.90   5.64  23.9  \n",
       "504     21.0  393.45   6.48  22.0  \n",
       "505     21.0  396.90   7.88  11.9  \n",
       "\n",
       "[506 rows x 14 columns]"
      ]
     },
     "execution_count": 11,
     "metadata": {},
     "output_type": "execute_result"
    }
   ],
   "source": [
    "BostonHousing = pd.read_csv(\"BostonHousing.csv\")\n",
    "BostonHousing"
   ]
  },
  {
   "cell_type": "code",
   "execution_count": 12,
   "id": "e2ad9c43",
   "metadata": {
    "execution": {
     "iopub.execute_input": "2022-01-22T15:23:43.708217Z",
     "iopub.status.busy": "2022-01-22T15:23:43.707584Z",
     "iopub.status.idle": "2022-01-22T15:23:43.709903Z",
     "shell.execute_reply": "2022-01-22T15:23:43.710496Z",
     "shell.execute_reply.started": "2022-01-22T15:06:15.296411Z"
    },
    "papermill": {
     "duration": 0.039172,
     "end_time": "2022-01-22T15:23:43.710660",
     "exception": false,
     "start_time": "2022-01-22T15:23:43.671488",
     "status": "completed"
    },
    "tags": []
   },
   "outputs": [
    {
     "data": {
      "text/plain": [
       "0      24.0\n",
       "1      21.6\n",
       "2      34.7\n",
       "3      33.4\n",
       "4      36.2\n",
       "       ... \n",
       "501    22.4\n",
       "502    20.6\n",
       "503    23.9\n",
       "504    22.0\n",
       "505    11.9\n",
       "Name: medv, Length: 506, dtype: float64"
      ]
     },
     "execution_count": 12,
     "metadata": {},
     "output_type": "execute_result"
    }
   ],
   "source": [
    "Y= BostonHousing.medv\n",
    "Y"
   ]
  },
  {
   "cell_type": "code",
   "execution_count": 13,
   "id": "1d16b9a2",
   "metadata": {
    "execution": {
     "iopub.execute_input": "2022-01-22T15:23:43.763559Z",
     "iopub.status.busy": "2022-01-22T15:23:43.762960Z",
     "iopub.status.idle": "2022-01-22T15:23:43.792595Z",
     "shell.execute_reply": "2022-01-22T15:23:43.792045Z",
     "shell.execute_reply.started": "2022-01-22T15:06:46.886606Z"
    },
    "papermill": {
     "duration": 0.057076,
     "end_time": "2022-01-22T15:23:43.792747",
     "exception": false,
     "start_time": "2022-01-22T15:23:43.735671",
     "status": "completed"
    },
    "tags": []
   },
   "outputs": [
    {
     "data": {
      "text/html": [
       "<div>\n",
       "<style scoped>\n",
       "    .dataframe tbody tr th:only-of-type {\n",
       "        vertical-align: middle;\n",
       "    }\n",
       "\n",
       "    .dataframe tbody tr th {\n",
       "        vertical-align: top;\n",
       "    }\n",
       "\n",
       "    .dataframe thead th {\n",
       "        text-align: right;\n",
       "    }\n",
       "</style>\n",
       "<table border=\"1\" class=\"dataframe\">\n",
       "  <thead>\n",
       "    <tr style=\"text-align: right;\">\n",
       "      <th></th>\n",
       "      <th>crim</th>\n",
       "      <th>zn</th>\n",
       "      <th>indus</th>\n",
       "      <th>chas</th>\n",
       "      <th>nox</th>\n",
       "      <th>rm</th>\n",
       "      <th>age</th>\n",
       "      <th>dis</th>\n",
       "      <th>rad</th>\n",
       "      <th>tax</th>\n",
       "      <th>ptratio</th>\n",
       "      <th>b</th>\n",
       "      <th>lstat</th>\n",
       "    </tr>\n",
       "  </thead>\n",
       "  <tbody>\n",
       "    <tr>\n",
       "      <th>0</th>\n",
       "      <td>0.00632</td>\n",
       "      <td>18.0</td>\n",
       "      <td>2.31</td>\n",
       "      <td>0</td>\n",
       "      <td>0.538</td>\n",
       "      <td>6.575</td>\n",
       "      <td>65.2</td>\n",
       "      <td>4.0900</td>\n",
       "      <td>1</td>\n",
       "      <td>296</td>\n",
       "      <td>15.3</td>\n",
       "      <td>396.90</td>\n",
       "      <td>4.98</td>\n",
       "    </tr>\n",
       "    <tr>\n",
       "      <th>1</th>\n",
       "      <td>0.02731</td>\n",
       "      <td>0.0</td>\n",
       "      <td>7.07</td>\n",
       "      <td>0</td>\n",
       "      <td>0.469</td>\n",
       "      <td>6.421</td>\n",
       "      <td>78.9</td>\n",
       "      <td>4.9671</td>\n",
       "      <td>2</td>\n",
       "      <td>242</td>\n",
       "      <td>17.8</td>\n",
       "      <td>396.90</td>\n",
       "      <td>9.14</td>\n",
       "    </tr>\n",
       "    <tr>\n",
       "      <th>2</th>\n",
       "      <td>0.02729</td>\n",
       "      <td>0.0</td>\n",
       "      <td>7.07</td>\n",
       "      <td>0</td>\n",
       "      <td>0.469</td>\n",
       "      <td>7.185</td>\n",
       "      <td>61.1</td>\n",
       "      <td>4.9671</td>\n",
       "      <td>2</td>\n",
       "      <td>242</td>\n",
       "      <td>17.8</td>\n",
       "      <td>392.83</td>\n",
       "      <td>4.03</td>\n",
       "    </tr>\n",
       "    <tr>\n",
       "      <th>3</th>\n",
       "      <td>0.03237</td>\n",
       "      <td>0.0</td>\n",
       "      <td>2.18</td>\n",
       "      <td>0</td>\n",
       "      <td>0.458</td>\n",
       "      <td>6.998</td>\n",
       "      <td>45.8</td>\n",
       "      <td>6.0622</td>\n",
       "      <td>3</td>\n",
       "      <td>222</td>\n",
       "      <td>18.7</td>\n",
       "      <td>394.63</td>\n",
       "      <td>2.94</td>\n",
       "    </tr>\n",
       "    <tr>\n",
       "      <th>4</th>\n",
       "      <td>0.06905</td>\n",
       "      <td>0.0</td>\n",
       "      <td>2.18</td>\n",
       "      <td>0</td>\n",
       "      <td>0.458</td>\n",
       "      <td>7.147</td>\n",
       "      <td>54.2</td>\n",
       "      <td>6.0622</td>\n",
       "      <td>3</td>\n",
       "      <td>222</td>\n",
       "      <td>18.7</td>\n",
       "      <td>396.90</td>\n",
       "      <td>5.33</td>\n",
       "    </tr>\n",
       "    <tr>\n",
       "      <th>...</th>\n",
       "      <td>...</td>\n",
       "      <td>...</td>\n",
       "      <td>...</td>\n",
       "      <td>...</td>\n",
       "      <td>...</td>\n",
       "      <td>...</td>\n",
       "      <td>...</td>\n",
       "      <td>...</td>\n",
       "      <td>...</td>\n",
       "      <td>...</td>\n",
       "      <td>...</td>\n",
       "      <td>...</td>\n",
       "      <td>...</td>\n",
       "    </tr>\n",
       "    <tr>\n",
       "      <th>501</th>\n",
       "      <td>0.06263</td>\n",
       "      <td>0.0</td>\n",
       "      <td>11.93</td>\n",
       "      <td>0</td>\n",
       "      <td>0.573</td>\n",
       "      <td>6.593</td>\n",
       "      <td>69.1</td>\n",
       "      <td>2.4786</td>\n",
       "      <td>1</td>\n",
       "      <td>273</td>\n",
       "      <td>21.0</td>\n",
       "      <td>391.99</td>\n",
       "      <td>9.67</td>\n",
       "    </tr>\n",
       "    <tr>\n",
       "      <th>502</th>\n",
       "      <td>0.04527</td>\n",
       "      <td>0.0</td>\n",
       "      <td>11.93</td>\n",
       "      <td>0</td>\n",
       "      <td>0.573</td>\n",
       "      <td>6.120</td>\n",
       "      <td>76.7</td>\n",
       "      <td>2.2875</td>\n",
       "      <td>1</td>\n",
       "      <td>273</td>\n",
       "      <td>21.0</td>\n",
       "      <td>396.90</td>\n",
       "      <td>9.08</td>\n",
       "    </tr>\n",
       "    <tr>\n",
       "      <th>503</th>\n",
       "      <td>0.06076</td>\n",
       "      <td>0.0</td>\n",
       "      <td>11.93</td>\n",
       "      <td>0</td>\n",
       "      <td>0.573</td>\n",
       "      <td>6.976</td>\n",
       "      <td>91.0</td>\n",
       "      <td>2.1675</td>\n",
       "      <td>1</td>\n",
       "      <td>273</td>\n",
       "      <td>21.0</td>\n",
       "      <td>396.90</td>\n",
       "      <td>5.64</td>\n",
       "    </tr>\n",
       "    <tr>\n",
       "      <th>504</th>\n",
       "      <td>0.10959</td>\n",
       "      <td>0.0</td>\n",
       "      <td>11.93</td>\n",
       "      <td>0</td>\n",
       "      <td>0.573</td>\n",
       "      <td>6.794</td>\n",
       "      <td>89.3</td>\n",
       "      <td>2.3889</td>\n",
       "      <td>1</td>\n",
       "      <td>273</td>\n",
       "      <td>21.0</td>\n",
       "      <td>393.45</td>\n",
       "      <td>6.48</td>\n",
       "    </tr>\n",
       "    <tr>\n",
       "      <th>505</th>\n",
       "      <td>0.04741</td>\n",
       "      <td>0.0</td>\n",
       "      <td>11.93</td>\n",
       "      <td>0</td>\n",
       "      <td>0.573</td>\n",
       "      <td>6.030</td>\n",
       "      <td>80.8</td>\n",
       "      <td>2.5050</td>\n",
       "      <td>1</td>\n",
       "      <td>273</td>\n",
       "      <td>21.0</td>\n",
       "      <td>396.90</td>\n",
       "      <td>7.88</td>\n",
       "    </tr>\n",
       "  </tbody>\n",
       "</table>\n",
       "<p>506 rows × 13 columns</p>\n",
       "</div>"
      ],
      "text/plain": [
       "        crim    zn  indus  chas    nox     rm   age     dis  rad  tax  \\\n",
       "0    0.00632  18.0   2.31     0  0.538  6.575  65.2  4.0900    1  296   \n",
       "1    0.02731   0.0   7.07     0  0.469  6.421  78.9  4.9671    2  242   \n",
       "2    0.02729   0.0   7.07     0  0.469  7.185  61.1  4.9671    2  242   \n",
       "3    0.03237   0.0   2.18     0  0.458  6.998  45.8  6.0622    3  222   \n",
       "4    0.06905   0.0   2.18     0  0.458  7.147  54.2  6.0622    3  222   \n",
       "..       ...   ...    ...   ...    ...    ...   ...     ...  ...  ...   \n",
       "501  0.06263   0.0  11.93     0  0.573  6.593  69.1  2.4786    1  273   \n",
       "502  0.04527   0.0  11.93     0  0.573  6.120  76.7  2.2875    1  273   \n",
       "503  0.06076   0.0  11.93     0  0.573  6.976  91.0  2.1675    1  273   \n",
       "504  0.10959   0.0  11.93     0  0.573  6.794  89.3  2.3889    1  273   \n",
       "505  0.04741   0.0  11.93     0  0.573  6.030  80.8  2.5050    1  273   \n",
       "\n",
       "     ptratio       b  lstat  \n",
       "0       15.3  396.90   4.98  \n",
       "1       17.8  396.90   9.14  \n",
       "2       17.8  392.83   4.03  \n",
       "3       18.7  394.63   2.94  \n",
       "4       18.7  396.90   5.33  \n",
       "..       ...     ...    ...  \n",
       "501     21.0  391.99   9.67  \n",
       "502     21.0  396.90   9.08  \n",
       "503     21.0  396.90   5.64  \n",
       "504     21.0  393.45   6.48  \n",
       "505     21.0  396.90   7.88  \n",
       "\n",
       "[506 rows x 13 columns]"
      ]
     },
     "execution_count": 13,
     "metadata": {},
     "output_type": "execute_result"
    }
   ],
   "source": [
    "X= BostonHousing.drop(['medv'],axis= 1)\n",
    "X"
   ]
  },
  {
   "cell_type": "code",
   "execution_count": 14,
   "id": "4e26229c",
   "metadata": {
    "execution": {
     "iopub.execute_input": "2022-01-22T15:23:43.852081Z",
     "iopub.status.busy": "2022-01-22T15:23:43.851360Z",
     "iopub.status.idle": "2022-01-22T15:23:43.898674Z",
     "shell.execute_reply": "2022-01-22T15:23:43.899184Z",
     "shell.execute_reply.started": "2022-01-22T15:07:53.617577Z"
    },
    "papermill": {
     "duration": 0.080024,
     "end_time": "2022-01-22T15:23:43.899384",
     "exception": false,
     "start_time": "2022-01-22T15:23:43.819360",
     "status": "completed"
    },
    "tags": []
   },
   "outputs": [],
   "source": [
    "from sklearn.model_selection import train_test_split"
   ]
  },
  {
   "cell_type": "code",
   "execution_count": 15,
   "id": "34e9622d",
   "metadata": {
    "execution": {
     "iopub.execute_input": "2022-01-22T15:23:43.957726Z",
     "iopub.status.busy": "2022-01-22T15:23:43.957000Z",
     "iopub.status.idle": "2022-01-22T15:23:43.959891Z",
     "shell.execute_reply": "2022-01-22T15:23:43.960506Z",
     "shell.execute_reply.started": "2022-01-22T15:08:33.351734Z"
    },
    "papermill": {
     "duration": 0.035461,
     "end_time": "2022-01-22T15:23:43.960676",
     "exception": false,
     "start_time": "2022-01-22T15:23:43.925215",
     "status": "completed"
    },
    "tags": []
   },
   "outputs": [],
   "source": [
    "# Perform 80/20( test_ratio )Data split\n",
    "X_train, X_test, Y_train, Y_test = train_test_split(X, Y, test_size=0.2)"
   ]
  },
  {
   "cell_type": "code",
   "execution_count": 16,
   "id": "f3dba15b",
   "metadata": {
    "execution": {
     "iopub.execute_input": "2022-01-22T15:23:44.016473Z",
     "iopub.status.busy": "2022-01-22T15:23:44.015795Z",
     "iopub.status.idle": "2022-01-22T15:23:44.020795Z",
     "shell.execute_reply": "2022-01-22T15:23:44.021395Z",
     "shell.execute_reply.started": "2022-01-22T15:11:49.848778Z"
    },
    "papermill": {
     "duration": 0.034064,
     "end_time": "2022-01-22T15:23:44.021570",
     "exception": false,
     "start_time": "2022-01-22T15:23:43.987506",
     "status": "completed"
    },
    "tags": []
   },
   "outputs": [
    {
     "data": {
      "text/plain": [
       "((102, 13), (102,))"
      ]
     },
     "execution_count": 16,
     "metadata": {},
     "output_type": "execute_result"
    }
   ],
   "source": [
    "X_test.shape , Y_test.shape"
   ]
  },
  {
   "cell_type": "code",
   "execution_count": 17,
   "id": "cef8bab2",
   "metadata": {
    "execution": {
     "iopub.execute_input": "2022-01-22T15:23:44.076545Z",
     "iopub.status.busy": "2022-01-22T15:23:44.075907Z",
     "iopub.status.idle": "2022-01-22T15:23:44.080783Z",
     "shell.execute_reply": "2022-01-22T15:23:44.081365Z",
     "shell.execute_reply.started": "2022-01-22T15:12:44.469303Z"
    },
    "papermill": {
     "duration": 0.033902,
     "end_time": "2022-01-22T15:23:44.081531",
     "exception": false,
     "start_time": "2022-01-22T15:23:44.047629",
     "status": "completed"
    },
    "tags": []
   },
   "outputs": [
    {
     "data": {
      "text/plain": [
       "((404, 13), (404,))"
      ]
     },
     "execution_count": 17,
     "metadata": {},
     "output_type": "execute_result"
    }
   ],
   "source": [
    "X_train.shape , Y_train.shape"
   ]
  },
  {
   "cell_type": "code",
   "execution_count": 18,
   "id": "9ea2517b",
   "metadata": {
    "execution": {
     "iopub.execute_input": "2022-01-22T15:23:44.137608Z",
     "iopub.status.busy": "2022-01-22T15:23:44.136951Z",
     "iopub.status.idle": "2022-01-22T15:23:44.217259Z",
     "shell.execute_reply": "2022-01-22T15:23:44.217869Z",
     "shell.execute_reply.started": "2022-01-22T15:15:29.716516Z"
    },
    "papermill": {
     "duration": 0.109766,
     "end_time": "2022-01-22T15:23:44.218045",
     "exception": false,
     "start_time": "2022-01-22T15:23:44.108279",
     "status": "completed"
    },
    "tags": []
   },
   "outputs": [],
   "source": [
    "from sklearn import linear_model\n",
    "from sklearn.metrics import mean_squared_error, r2_score"
   ]
  },
  {
   "cell_type": "code",
   "execution_count": 19,
   "id": "0a8e06e2",
   "metadata": {
    "execution": {
     "iopub.execute_input": "2022-01-22T15:23:44.273673Z",
     "iopub.status.busy": "2022-01-22T15:23:44.273019Z",
     "iopub.status.idle": "2022-01-22T15:23:44.277003Z",
     "shell.execute_reply": "2022-01-22T15:23:44.277568Z",
     "shell.execute_reply.started": "2022-01-22T15:16:28.877058Z"
    },
    "papermill": {
     "duration": 0.033323,
     "end_time": "2022-01-22T15:23:44.277731",
     "exception": false,
     "start_time": "2022-01-22T15:23:44.244408",
     "status": "completed"
    },
    "tags": []
   },
   "outputs": [],
   "source": [
    "model = linear_model.LinearRegression()"
   ]
  },
  {
   "cell_type": "code",
   "execution_count": 20,
   "id": "0a42e669",
   "metadata": {
    "execution": {
     "iopub.execute_input": "2022-01-22T15:23:44.336096Z",
     "iopub.status.busy": "2022-01-22T15:23:44.335405Z",
     "iopub.status.idle": "2022-01-22T15:23:44.356391Z",
     "shell.execute_reply": "2022-01-22T15:23:44.356966Z",
     "shell.execute_reply.started": "2022-01-22T15:16:45.175917Z"
    },
    "papermill": {
     "duration": 0.052703,
     "end_time": "2022-01-22T15:23:44.357128",
     "exception": false,
     "start_time": "2022-01-22T15:23:44.304425",
     "status": "completed"
    },
    "tags": []
   },
   "outputs": [
    {
     "data": {
      "text/plain": [
       "LinearRegression()"
      ]
     },
     "execution_count": 20,
     "metadata": {},
     "output_type": "execute_result"
    }
   ],
   "source": [
    "model.fit(X_train, Y_train)"
   ]
  },
  {
   "cell_type": "code",
   "execution_count": 21,
   "id": "864c480e",
   "metadata": {
    "execution": {
     "iopub.execute_input": "2022-01-22T15:23:44.419431Z",
     "iopub.status.busy": "2022-01-22T15:23:44.418705Z",
     "iopub.status.idle": "2022-01-22T15:23:44.421355Z",
     "shell.execute_reply": "2022-01-22T15:23:44.421842Z",
     "shell.execute_reply.started": "2022-01-22T15:17:08.870814Z"
    },
    "papermill": {
     "duration": 0.038279,
     "end_time": "2022-01-22T15:23:44.422006",
     "exception": false,
     "start_time": "2022-01-22T15:23:44.383727",
     "status": "completed"
    },
    "tags": []
   },
   "outputs": [
    {
     "data": {
      "text/plain": [
       "array([20.1035783 , 33.06929684, 16.00798386, 21.53176288, 24.36786527,\n",
       "       18.57250582, 33.15935531, 20.65120677, 34.45850349, 26.92777682,\n",
       "        5.48547261, 13.1497305 , 37.4260023 , 17.20404227, 28.87802934,\n",
       "       18.03130337, 18.24752806, 23.83042259, 14.53273571, 29.08465778,\n",
       "       18.65407048, 21.62480098, 27.29879019, 23.39119278, 28.04006162,\n",
       "       26.18124128, 20.49555397,  8.0755073 , 27.68947757, 34.42004205,\n",
       "       34.0004496 , 17.27652882, 20.28772659, 27.25838926, 21.42662314,\n",
       "       27.22860821, 26.85971839, 33.07585728, 24.51447961, 23.18135293,\n",
       "       15.88807026, 21.88174788, 30.83728072, 33.2924181 , 13.68526736,\n",
       "       27.38323917, 29.10744399, 19.0204396 , 22.55633337, 18.15390285,\n",
       "       22.95527111, 19.2664483 , 23.02587406, 34.72278067, 25.54247197,\n",
       "       25.24077925, 19.60594531, 18.18618713, 22.93206115, 21.30720363,\n",
       "       30.84787356, 36.32729559, 18.36015507, 15.67578283, 17.56798584,\n",
       "       10.36576114, 43.47847374, 39.08086242, 15.67113257, 13.41433986,\n",
       "       32.59917101, 25.5549433 , 15.79584006, 21.22048468, 19.48564957,\n",
       "       20.77520794, 12.22419904, 23.74607745, 21.17066684, 21.88921631,\n",
       "       33.68279924, 23.63347801, 33.56830055, 23.89392351,  8.68048069,\n",
       "        9.95325453, 17.60684654, 22.23844181, 22.35725553, 36.05064203,\n",
       "       22.15565678, 33.09321934, 36.72631228, 17.40798453, 25.43682381,\n",
       "       17.89556334, 20.64202254, 14.38680237, 22.52390288,  8.04493825,\n",
       "       22.870994  , 25.03727462])"
      ]
     },
     "execution_count": 21,
     "metadata": {},
     "output_type": "execute_result"
    }
   ],
   "source": [
    "Y_pred = model.predict(X_test)\n",
    "Y_pred"
   ]
  },
  {
   "cell_type": "code",
   "execution_count": null,
   "id": "88a7df46",
   "metadata": {
    "papermill": {
     "duration": 0.026871,
     "end_time": "2022-01-22T15:23:44.476079",
     "exception": false,
     "start_time": "2022-01-22T15:23:44.449208",
     "status": "completed"
    },
    "tags": []
   },
   "outputs": [],
   "source": []
  },
  {
   "cell_type": "code",
   "execution_count": null,
   "id": "31a062d6",
   "metadata": {
    "papermill": {
     "duration": 0.026379,
     "end_time": "2022-01-22T15:23:44.529625",
     "exception": false,
     "start_time": "2022-01-22T15:23:44.503246",
     "status": "completed"
    },
    "tags": []
   },
   "outputs": [],
   "source": []
  },
  {
   "cell_type": "code",
   "execution_count": null,
   "id": "bf93b0b6",
   "metadata": {
    "papermill": {
     "duration": 0.026391,
     "end_time": "2022-01-22T15:23:44.583059",
     "exception": false,
     "start_time": "2022-01-22T15:23:44.556668",
     "status": "completed"
    },
    "tags": []
   },
   "outputs": [],
   "source": []
  },
  {
   "cell_type": "code",
   "execution_count": null,
   "id": "a3a9657f",
   "metadata": {
    "papermill": {
     "duration": 0.026473,
     "end_time": "2022-01-22T15:23:44.636291",
     "exception": false,
     "start_time": "2022-01-22T15:23:44.609818",
     "status": "completed"
    },
    "tags": []
   },
   "outputs": [],
   "source": []
  }
 ],
 "metadata": {
  "kernelspec": {
   "display_name": "Python 3",
   "language": "python",
   "name": "python3"
  },
  "language_info": {
   "codemirror_mode": {
    "name": "ipython",
    "version": 3
   },
   "file_extension": ".py",
   "mimetype": "text/x-python",
   "name": "python",
   "nbconvert_exporter": "python",
   "pygments_lexer": "ipython3",
   "version": "3.7.12"
  },
  "papermill": {
   "default_parameters": {},
   "duration": 14.492334,
   "end_time": "2022-01-22T15:23:45.374133",
   "environment_variables": {},
   "exception": null,
   "input_path": "__notebook__.ipynb",
   "output_path": "__notebook__.ipynb",
   "parameters": {},
   "start_time": "2022-01-22T15:23:30.881799",
   "version": "2.3.3"
  }
 },
 "nbformat": 4,
 "nbformat_minor": 5
}
