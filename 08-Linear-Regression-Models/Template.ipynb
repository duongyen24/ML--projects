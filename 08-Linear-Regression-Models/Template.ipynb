{
 "cells": [
  {
   "cell_type": "code",
   "execution_count": 2,
   "metadata": {},
   "outputs": [],
   "source": [
    "import numpy as np\n",
    "import pandas as pd\n",
    "import matplotlib.pyplot as plt\n",
    "import seaborn as sns"
   ]
  },
  {
   "cell_type": "code",
   "execution_count": null,
   "metadata": {},
   "outputs": [],
   "source": []
  },
  {
   "cell_type": "code",
   "execution_count": 6,
   "metadata": {},
   "outputs": [],
   "source": [
    "def create_age (mu=50, sigma=13, num_samples=100,seed=42):\n",
    "\tnp.random.seed(seed)\n",
    "\n",
    "\tsample_ages = np.random.normal(loc=mu,scale=sigma,size=num_samples)\n",
    "\tsample_ages = np.round(sample_ages, decimals=0)\n",
    "\n",
    "\treturn sample_ages"
   ]
  },
  {
   "cell_type": "code",
   "execution_count": 7,
   "metadata": {},
   "outputs": [],
   "source": [
    "sample = create_age()"
   ]
  },
  {
   "cell_type": "code",
   "execution_count": 8,
   "metadata": {},
   "outputs": [
    {
     "data": {
      "text/plain": [
       "array([56., 48., 58., 70., 47., 47., 71., 60., 44., 57., 44., 44., 53.,\n",
       "       25., 28., 43., 37., 54., 38., 32., 69., 47., 51., 31., 43., 51.,\n",
       "       35., 55., 42., 46., 42., 74., 50., 36., 61., 34., 53., 25., 33.,\n",
       "       53., 60., 52., 48., 46., 31., 41., 44., 64., 54., 27., 54., 45.,\n",
       "       41., 58., 63., 62., 39., 46., 54., 63., 44., 48., 36., 34., 61.,\n",
       "       68., 49., 63., 55., 42., 55., 70., 50., 70., 16., 61., 51., 46.,\n",
       "       51., 24., 47., 55., 69., 43., 39., 43., 62., 54., 43., 57., 51.,\n",
       "       63., 41., 46., 45., 31., 54., 53., 50., 47.])"
      ]
     },
     "execution_count": 8,
     "metadata": {},
     "output_type": "execute_result"
    }
   ],
   "source": [
    "sample"
   ]
  },
  {
   "cell_type": "code",
   "execution_count": null,
   "metadata": {},
   "outputs": [],
   "source": []
  },
  {
   "cell_type": "code",
   "execution_count": null,
   "metadata": {},
   "outputs": [],
   "source": []
  },
  {
   "cell_type": "code",
   "execution_count": null,
   "metadata": {},
   "outputs": [],
   "source": [
    "\n"
   ]
  },
  {
   "cell_type": "code",
   "execution_count": null,
   "metadata": {},
   "outputs": [],
   "source": []
  },
  {
   "cell_type": "code",
   "execution_count": null,
   "metadata": {},
   "outputs": [],
   "source": []
  },
  {
   "cell_type": "code",
   "execution_count": null,
   "metadata": {},
   "outputs": [],
   "source": []
  },
  {
   "cell_type": "code",
   "execution_count": null,
   "metadata": {},
   "outputs": [],
   "source": []
  },
  {
   "cell_type": "code",
   "execution_count": null,
   "metadata": {},
   "outputs": [],
   "source": []
  },
  {
   "cell_type": "code",
   "execution_count": null,
   "metadata": {},
   "outputs": [],
   "source": []
  }
 ],
 "metadata": {
  "anaconda-cloud": {},
  "kernelspec": {
   "display_name": "Python 3",
   "language": "python",
   "name": "python3"
  },
  "language_info": {
   "codemirror_mode": {
    "name": "ipython",
    "version": 3
   },
   "file_extension": ".py",
   "mimetype": "text/x-python",
   "name": "python",
   "nbconvert_exporter": "python",
   "pygments_lexer": "ipython3",
   "version": "3.8.8"
  }
 },
 "nbformat": 4,
 "nbformat_minor": 1
}
